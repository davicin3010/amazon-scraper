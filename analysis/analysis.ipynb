{
 "cells": [
  {
   "cell_type": "code",
   "execution_count": 1,
   "id": "dda5af8b",
   "metadata": {},
   "outputs": [],
   "source": [
    "import pandas as pd\n",
    "import plotly.graph_objects as go\n",
    "from plotly.subplots import make_subplots"
   ]
  },
  {
   "cell_type": "code",
   "execution_count": 2,
   "id": "cd748a24",
   "metadata": {},
   "outputs": [
    {
     "data": {
      "application/vnd.microsoft.datawrangler.viewer.v0+json": {
       "columns": [
        {
         "name": "index",
         "rawType": "int64",
         "type": "integer"
        },
        {
         "name": "Product_Code",
         "rawType": "object",
         "type": "string"
        },
        {
         "name": "Title",
         "rawType": "object",
         "type": "string"
        },
        {
         "name": "Vendor_Name",
         "rawType": "object",
         "type": "unknown"
        },
        {
         "name": "Rating",
         "rawType": "float64",
         "type": "float"
        },
        {
         "name": "Num_Ratings",
         "rawType": "object",
         "type": "unknown"
        },
        {
         "name": "Ranking",
         "rawType": "float64",
         "type": "float"
        },
        {
         "name": "Category",
         "rawType": "object",
         "type": "unknown"
        },
        {
         "name": "Price",
         "rawType": "object",
         "type": "string"
        },
        {
         "name": "Quantity",
         "rawType": "int64",
         "type": "integer"
        },
        {
         "name": "Min_Price_Comp",
         "rawType": "float64",
         "type": "float"
        },
        {
         "name": "Max_Price_Comp",
         "rawType": "float64",
         "type": "float"
        },
        {
         "name": "Avg_Price_Comp",
         "rawType": "float64",
         "type": "float"
        },
        {
         "name": "Date",
         "rawType": "object",
         "type": "string"
        }
       ],
       "conversionMethod": "pd.DataFrame",
       "ref": "d186ee35-b28a-4a8e-87b5-ac07c0868216",
       "rows": [
        [
         "0",
         "B09G92Y196",
         "Disney Sandalias de Frozen y Mickey para niños, cierre fácil de deslizar, impermeables, de secado rápido, color morado, rosa/azul (tamaños: 5-10 niños pequeños/11-12 niños pequeños)",
         "Ultimate footwear",
         null,
         null,
         null,
         null,
         "US$14.99",
         "12",
         null,
         null,
         null,
         "2024-12-27 16:26:34"
        ],
        [
         "1",
         "B08MMJW4GP",
         "KÜB - Juguete de empuje para bebés y niños pequeños, sonido interactivo y efecto de luz, centro de actividades Montessori musical, rueda de velocidad ajustable, seguro y estable, regalo divertido para",
         "KUB Baby",
         null,
         null,
         null,
         null,
         "US$89.99",
         "780",
         null,
         null,
         null,
         "2024-12-27 16:27:46"
        ],
        [
         "2",
         "B0BQHP2BDY",
         "TEEZWONDER Regalos para mamá de hijas e hijos, día de la madre, Navidad, cumpleaños, día de San Valentín, regalos para mamá, regalos de abuela, nuevas mamás, regalos para mamá por primera vez para",
         "TEEZWONDER STORE",
         null,
         null,
         null,
         null,
         "US$11.99",
         "156",
         null,
         null,
         null,
         "2024-12-27 16:28:54"
        ],
        [
         "3",
         "B0D1MKBG6M",
         "YOUR MOON Almohada suave tamaño Queen para dormir, almohada alternativa de apoyo súper suave, funda de 100% algodón, almohadas de cama cómodas y esponjosas para dormir (blanco)",
         "MeisheHome",
         null,
         null,
         null,
         null,
         "US$33.98",
         "269",
         null,
         null,
         null,
         "2024-12-27 16:29:58"
        ],
        [
         "4",
         "B0D9PT21MS",
         "Pájaro artificial del paraíso de 4 pies de palmera artificial para decoración de interiores y exteriores de la oficina",
         "MeDal",
         null,
         null,
         null,
         null,
         "US$53.85",
         "38",
         null,
         null,
         null,
         "2024-12-27 16:31:02"
        ],
        [
         "5",
         "B08MMJW4GP",
         "KÜB - Juguete de empuje para bebés y niños pequeños, sonido interactivo y efecto de luz, centro de actividades Montessori musical, rueda de velocidad ajustable, seguro y estable, regalo divertido para",
         "KUB Baby",
         null,
         null,
         null,
         null,
         "US$89.99",
         "768",
         null,
         null,
         null,
         "2024-12-28 19:25:04"
        ],
        [
         "6",
         "B0D1MKBG6M",
         "YOUR MOON Almohada suave tamaño Queen para dormir, almohada alternativa de apoyo súper suave, funda de 100% algodón, almohadas de cama cómodas y esponjosas para dormir (blanco)",
         "MeisheHome",
         null,
         null,
         null,
         null,
         "US$33.98",
         "266",
         null,
         null,
         null,
         "2024-12-28 19:26:11"
        ],
        [
         "7",
         "B0BQHP2BDY",
         "TEEZWONDER Regalos para mamá de hijas e hijos, día de la madre, Navidad, cumpleaños, día de San Valentín, regalos para mamá, regalos de abuela, nuevas mamás, regalos para mamá por primera vez para",
         "TEEZWONDER STORE",
         null,
         null,
         null,
         null,
         "US$11.99",
         "157",
         null,
         null,
         null,
         "2024-12-28 19:27:17"
        ],
        [
         "8",
         "B0D9PT21MS",
         "Pájaro artificial del paraíso de 4 pies de palmera artificial para decoración de interiores y exteriores de la oficina",
         "MeDal",
         null,
         null,
         null,
         null,
         "US$53.85",
         "38",
         null,
         null,
         null,
         "2024-12-28 19:28:24"
        ],
        [
         "9",
         "B09G92Y196",
         "Disney Sandalias de Frozen y Mickey para niños, cierre fácil de deslizar, impermeables, de secado rápido, color morado, rosa/azul (tamaños: 5-10 niños pequeños/11-12 niños pequeños)",
         "Ultimate footwear",
         null,
         null,
         null,
         null,
         "US$14.99",
         "12",
         null,
         null,
         null,
         "2024-12-28 19:29:24"
        ],
        [
         "10",
         "B09G92Y196",
         "Disney Sandalias de Frozen y Mickey para niños, cierre fácil de deslizar, impermeables, de secado rápido, color morado, rosa/azul (tamaños: 5-10 niños pequeños/11-12 niños pequeños)",
         "Ultimate footwear",
         null,
         null,
         null,
         null,
         "US$14.99",
         "12",
         null,
         null,
         null,
         "2024-12-30 08:47:48"
        ],
        [
         "11",
         "B08MMJW4GP",
         "KÜB - Juguete de empuje para bebés y niños pequeños, sonido interactivo y efecto de luz, centro de actividades Montessori musical, rueda de velocidad ajustable, seguro y estable, regalo divertido para",
         "KUB Baby",
         null,
         null,
         null,
         null,
         "US$89.99",
         "744",
         null,
         null,
         null,
         "2024-12-30 08:49:09"
        ],
        [
         "12",
         "B0BQHP2BDY",
         "TEEZWONDER Regalos para mamá de hijas e hijos, día de la madre, Navidad, cumpleaños, día de San Valentín, regalos para mamá, regalos de abuela, nuevas mamás, regalos para mamá por primera vez para",
         "TEEZWONDER STORE",
         null,
         null,
         null,
         null,
         "US$11.99",
         "157",
         null,
         null,
         null,
         "2024-12-30 08:50:19"
        ],
        [
         "13",
         "B0D1MKBG6M",
         "YOUR MOON Almohada suave tamaño Queen para dormir, almohada alternativa de apoyo súper suave, funda de 100% algodón, almohadas de cama cómodas y esponjosas para dormir (blanco)",
         "MeisheHome",
         null,
         null,
         null,
         null,
         "US$33.98",
         "265",
         null,
         null,
         null,
         "2024-12-30 08:51:39"
        ],
        [
         "14",
         "B0D9PT21MS",
         "Pájaro artificial del paraíso de 4 pies de palmera artificial para decoración de interiores y exteriores de la oficina",
         "MeDal",
         null,
         null,
         null,
         null,
         "US$53.85",
         "38",
         null,
         null,
         null,
         "2024-12-30 08:52:45"
        ],
        [
         "15",
         "B0BQHP2BDY",
         "TEEZWONDER Regalos para mamá de hijas e hijos, día de la madre, Navidad, cumpleaños, día de San Valentín, regalos para mamá, regalos de abuela, nuevas mamás, regalos para mamá por primera vez para",
         "TEEZWONDER STORE",
         null,
         null,
         null,
         null,
         "US$11.99",
         "157",
         null,
         null,
         null,
         "2024-12-31 09:20:59"
        ],
        [
         "16",
         "B0D1MKBG6M",
         "YOUR MOON Almohada suave tamaño Queen para dormir, almohada alternativa de apoyo súper suave, funda de 100% algodón, almohadas de cama cómodas y esponjosas para dormir (blanco)",
         "MeisheHome",
         null,
         null,
         null,
         null,
         "US$33.98",
         "266",
         null,
         null,
         null,
         "2024-12-31 09:22:04"
        ],
        [
         "17",
         "B09G92Y196",
         "Disney Sandalias de Frozen y Mickey para niños, cierre fácil de deslizar, impermeables, de secado rápido, color morado, rosa/azul (tamaños: 5-10 niños pequeños/11-12 niños pequeños)",
         "Ultimate footwear",
         null,
         null,
         null,
         null,
         "US$14.99",
         "12",
         null,
         null,
         null,
         "2024-12-31 09:23:08"
        ],
        [
         "18",
         "B0D9PT21MS",
         "Pájaro artificial del paraíso de 4 pies de palmera artificial para decoración de interiores y exteriores de la oficina",
         "MeDal",
         null,
         null,
         null,
         null,
         "US$53.85",
         "38",
         null,
         null,
         null,
         "2024-12-31 09:24:20"
        ],
        [
         "19",
         "B08MMJW4GP",
         "KÜB - Juguete de empuje para bebés y niños pequeños, sonido interactivo y efecto de luz, centro de actividades Montessori musical, rueda de velocidad ajustable, seguro y estable, regalo divertido para",
         "KUB Baby",
         null,
         null,
         null,
         null,
         "US$89.99",
         "728",
         null,
         null,
         null,
         "2024-12-31 09:25:22"
        ],
        [
         "20",
         "B0D1MKBG6M",
         "YOUR MOON Almohada suave tamaño Queen para dormir, almohada alternativa de apoyo súper suave, funda de 100% algodón, almohadas de cama cómodas y esponjosas para dormir (blanco)",
         "MeisheHome",
         null,
         null,
         null,
         null,
         "US$33.98",
         "262",
         null,
         null,
         null,
         "2025-01-01 14:42:35"
        ],
        [
         "21",
         "B0BQHP2BDY",
         "TEEZWONDER Regalos para mamá de hijas e hijos, día de la madre, Navidad, cumpleaños, día de San Valentín, regalos para mamá, regalos de abuela, nuevas mamás, regalos para mamá por primera vez para",
         "TEEZWONDER STORE",
         null,
         null,
         null,
         null,
         "US$11.99",
         "157",
         null,
         null,
         null,
         "2025-01-01 14:43:37"
        ],
        [
         "22",
         "B0BQHP2BDY",
         "TEEZWONDER Regalos para mamá de hijas e hijos, día de la madre, Navidad, cumpleaños, día de San Valentín, regalos para mamá, regalos de abuela, nuevas mamás, regalos para mamá por primera vez para",
         "TEEZWONDER STORE",
         null,
         null,
         null,
         null,
         "US$11.99",
         "157",
         null,
         null,
         null,
         "2025-01-02 14:05:03"
        ],
        [
         "23",
         "B08MMJW4GP",
         "KÜB - Juguete de empuje para bebés y niños pequeños, sonido interactivo y efecto de luz, centro de actividades Montessori musical, rueda de velocidad ajustable, seguro y estable, regalo divertido para",
         "KUB Baby",
         null,
         null,
         null,
         null,
         "US$89.99",
         "701",
         null,
         null,
         null,
         "2025-01-02 14:06:06"
        ],
        [
         "24",
         "B09G92Y196",
         "Disney Sandalias de Frozen y Mickey para niños, cierre fácil de deslizar, impermeables, de secado rápido, color morado, rosa/azul (tamaños: 5-10 niños pequeños/11-12 niños pequeños)",
         "Ultimate footwear",
         null,
         null,
         null,
         null,
         "US$14.99",
         "10",
         null,
         null,
         null,
         "2025-01-02 14:07:11"
        ],
        [
         "25",
         "B0D1MKBG6M",
         "YOUR MOON Almohada suave tamaño Queen para dormir, almohada alternativa de apoyo súper suave, funda de 100% algodón, almohadas de cama cómodas y esponjosas para dormir (blanco)",
         "MeisheHome",
         null,
         null,
         null,
         null,
         "US$33.98",
         "258",
         null,
         null,
         null,
         "2025-01-02 14:08:25"
        ],
        [
         "26",
         "B0D9PT21MS",
         "Pájaro artificial del paraíso de 4 pies de palmera artificial para decoración de interiores y exteriores de la oficina",
         "MeDal",
         null,
         null,
         null,
         null,
         "US$53.85",
         "39",
         null,
         null,
         null,
         "2025-01-02 14:09:27"
        ],
        [
         "27",
         "B0D1MKBG6M",
         "YOUR MOON Almohada suave tamaño Queen para dormir, almohada alternativa de apoyo súper suave, funda de 100% algodón, almohadas de cama cómodas y esponjosas para dormir (blanco)",
         "MeisheHome",
         null,
         null,
         null,
         null,
         "US$33.98",
         "255",
         null,
         null,
         null,
         "2025-01-03 14:58:08"
        ],
        [
         "28",
         "B08MMJW4GP",
         "KÜB - Juguete de empuje para bebés y niños pequeños, sonido interactivo y efecto de luz, centro de actividades Montessori musical, rueda de velocidad ajustable, seguro y estable, regalo divertido para",
         "KUB Baby",
         null,
         null,
         null,
         null,
         "US$89.99",
         "693",
         null,
         null,
         null,
         "2025-01-03 14:59:09"
        ],
        [
         "29",
         "B09G92Y196",
         "Disney Sandalias de Frozen y Mickey para niños, cierre fácil de deslizar, impermeables, de secado rápido, color morado, rosa/azul (tamaños: 5-10 niños pequeños/11-12 niños pequeños)",
         "Ultimate footwear",
         null,
         null,
         null,
         null,
         "US$14.99",
         "10",
         null,
         null,
         null,
         "2025-01-03 15:00:14"
        ],
        [
         "30",
         "B0D9PT21MS",
         "Pájaro artificial del paraíso de 4 pies de palmera artificial para decoración de interiores y exteriores de la oficina",
         "MeDal",
         null,
         null,
         null,
         null,
         "US$53.85",
         "39",
         null,
         null,
         null,
         "2025-01-03 15:01:24"
        ],
        [
         "31",
         "B0BQHP2BDY",
         "TEEZWONDER Regalos para mamá de hijas e hijos, día de la madre, Navidad, cumpleaños, día de San Valentín, regalos para mamá, regalos de abuela, nuevas mamás, regalos para mamá por primera vez para",
         "TEEZWONDER STORE",
         null,
         null,
         null,
         null,
         "US$11.99",
         "157",
         null,
         null,
         null,
         "2025-01-03 15:02:25"
        ],
        [
         "32",
         "B08MMJW4GP",
         "KÜB - Juguete de empuje para bebés y niños pequeños, sonido interactivo y efecto de luz, centro de actividades Montessori musical, rueda de velocidad ajustable, seguro y estable, regalo divertido para",
         "KUB Baby",
         null,
         null,
         null,
         null,
         "US$89.99",
         "683",
         null,
         null,
         null,
         "2025-01-04 12:52:53"
        ],
        [
         "33",
         "B0D1MKBG6M",
         "YOUR MOON Almohada suave tamaño Queen para dormir, almohada alternativa de apoyo súper suave, funda de 100% algodón, almohadas de cama cómodas y esponjosas para dormir (blanco)",
         "MeisheHome",
         null,
         null,
         null,
         null,
         "US$33.98",
         "250",
         null,
         null,
         null,
         "2025-01-04 12:53:59"
        ],
        [
         "34",
         "B0D9PT21MS",
         "Pájaro artificial del paraíso de 4 pies de palmera artificial para decoración de interiores y exteriores de la oficina",
         "MeDal",
         null,
         null,
         null,
         null,
         "US$53.85",
         "38",
         null,
         null,
         null,
         "2025-01-05 12:57:27"
        ],
        [
         "35",
         "B09G92Y196",
         "Disney Sandalias de Frozen y Mickey para niños, cierre fácil de deslizar, impermeables, de secado rápido, color morado, rosa/azul (tamaños: 5-10 niños pequeños/11-12 niños pequeños)",
         "Ultimate footwear",
         null,
         null,
         null,
         null,
         "US$14.99",
         "9",
         null,
         null,
         null,
         "2025-01-05 12:58:28"
        ],
        [
         "36",
         "B0BQHP2BDY",
         "TEEZWONDER Regalos para mamá de hijas e hijos, día de la madre, Navidad, cumpleaños, día de San Valentín, regalos para mamá, regalos de abuela, nuevas mamás, regalos para mamá por primera vez para",
         "TEEZWONDER STORE",
         null,
         null,
         null,
         null,
         "US$11.99",
         "156",
         null,
         null,
         null,
         "2025-01-06 14:20:53"
        ],
        [
         "37",
         "B08MMJW4GP",
         "KÜB - Juguete de empuje para bebés y niños pequeños, sonido interactivo y efecto de luz, centro de actividades Montessori musical, rueda de velocidad ajustable, seguro y estable, regalo divertido para",
         "KUB Baby",
         null,
         null,
         null,
         null,
         "US$89.99",
         "664",
         null,
         null,
         null,
         "2025-01-06 14:21:56"
        ],
        [
         "38",
         "B09G92Y196",
         "Disney Sandalias de Frozen y Mickey para niños, cierre fácil de deslizar, impermeables, de secado rápido, color morado, rosa/azul (tamaños: 5-10 niños pequeños/11-12 niños pequeños)",
         "Ultimate footwear",
         null,
         null,
         null,
         null,
         "US$14.99",
         "9",
         null,
         null,
         null,
         "2025-01-06 14:23:02"
        ],
        [
         "39",
         "B0D9PT21MS",
         "Pájaro artificial del paraíso de 4 pies de palmera artificial para decoración de interiores y exteriores de la oficina",
         "MeDal",
         null,
         null,
         null,
         null,
         "US$53.85",
         "38",
         null,
         null,
         null,
         "2025-01-06 14:24:12"
        ],
        [
         "40",
         "B0D1MKBG6M",
         "YOUR MOON Almohada suave tamaño Queen para dormir, almohada alternativa de apoyo súper suave, funda de 100% algodón, almohadas de cama cómodas y esponjosas para dormir (blanco)",
         "MeisheHome",
         null,
         null,
         null,
         null,
         "US$33.98",
         "247",
         null,
         null,
         null,
         "2025-01-06 14:25:13"
        ],
        [
         "41",
         "B0BQHP2BDY",
         "TEEZWONDER Regalos para mamá de hijas e hijos, día de la madre, Navidad, cumpleaños, día de San Valentín, regalos para mamá, regalos de abuela, nuevas mamás, regalos para mamá por primera vez para",
         "TEEZWONDER STORE",
         null,
         null,
         null,
         null,
         "US$11.99",
         "153",
         null,
         null,
         null,
         "2025-01-07 15:55:13"
        ],
        [
         "42",
         "B0D1MKBG6M",
         "YOUR MOON Almohada suave tamaño Queen para dormir, almohada alternativa de apoyo súper suave, funda de 100% algodón, almohadas de cama cómodas y esponjosas para dormir (blanco)",
         "MeisheHome",
         null,
         null,
         null,
         null,
         "US$33.98",
         "246",
         null,
         null,
         null,
         "2025-01-07 15:56:15"
        ],
        [
         "43",
         "B09G92Y196",
         "Disney Sandalias de Frozen y Mickey para niños, cierre fácil de deslizar, impermeables, de secado rápido, color morado, rosa/azul (tamaños: 5-10 niños pequeños/11-12 niños pequeños)",
         "Ultimate footwear",
         null,
         null,
         null,
         null,
         "US$14.99",
         "9",
         null,
         null,
         null,
         "2025-01-07 15:57:19"
        ],
        [
         "44",
         "B08MMJW4GP",
         "KÜB - Juguete de empuje para bebés y niños pequeños, sonido interactivo y efecto de luz, centro de actividades Montessori musical, rueda de velocidad ajustable, seguro y estable, regalo divertido para",
         "KUB Baby",
         null,
         null,
         null,
         null,
         "US$89.99",
         "659",
         null,
         null,
         null,
         "2025-01-07 15:58:30"
        ],
        [
         "45",
         "B0D9PT21MS",
         "Pájaro artificial del paraíso de 4 pies de palmera artificial para decoración de interiores y exteriores de la oficina",
         "MeDal",
         null,
         null,
         null,
         null,
         "US$53.85",
         "38",
         null,
         null,
         null,
         "2025-01-07 15:59:39"
        ],
        [
         "46",
         "B0D9PT21MS",
         "Pájaro artificial del paraíso de 4 pies de palmera artificial para decoración de interiores y exteriores de la oficina",
         "MeDal",
         null,
         null,
         null,
         null,
         "US$53.85",
         "38",
         null,
         null,
         null,
         "2025-01-08 17:27:04"
        ],
        [
         "47",
         "B0D1MKBG6M",
         "YOUR MOON Almohada suave tamaño Queen para dormir, almohada alternativa de apoyo súper suave, funda de 100% algodón, almohadas de cama cómodas y esponjosas para dormir (blanco)",
         "MeisheHome",
         null,
         null,
         null,
         null,
         "US$33.98",
         "245",
         null,
         null,
         null,
         "2025-01-08 17:28:11"
        ],
        [
         "48",
         "B09G92Y196",
         "Disney Sandalias de Frozen y Mickey para niños, cierre fácil de deslizar, impermeables, de secado rápido, color morado, rosa/azul (tamaños: 5-10 niños pequeños/11-12 niños pequeños)",
         "Ultimate footwear",
         null,
         null,
         null,
         null,
         "US$14.99",
         "9",
         null,
         null,
         null,
         "2025-01-08 17:29:16"
        ],
        [
         "49",
         "B08MMJW4GP",
         "KÜB - Juguete de empuje para bebés y niños pequeños, sonido interactivo y efecto de luz, centro de actividades Montessori musical, rueda de velocidad ajustable, seguro y estable, regalo divertido para",
         "KUB Baby",
         null,
         null,
         null,
         null,
         "US$89.99",
         "650",
         null,
         null,
         null,
         "2025-01-08 17:30:26"
        ]
       ],
       "shape": {
        "columns": 13,
        "rows": 755
       }
      },
      "text/html": [
       "<div>\n",
       "<style scoped>\n",
       "    .dataframe tbody tr th:only-of-type {\n",
       "        vertical-align: middle;\n",
       "    }\n",
       "\n",
       "    .dataframe tbody tr th {\n",
       "        vertical-align: top;\n",
       "    }\n",
       "\n",
       "    .dataframe thead th {\n",
       "        text-align: right;\n",
       "    }\n",
       "</style>\n",
       "<table border=\"1\" class=\"dataframe\">\n",
       "  <thead>\n",
       "    <tr style=\"text-align: right;\">\n",
       "      <th></th>\n",
       "      <th>Product_Code</th>\n",
       "      <th>Title</th>\n",
       "      <th>Vendor_Name</th>\n",
       "      <th>Rating</th>\n",
       "      <th>Num_Ratings</th>\n",
       "      <th>Ranking</th>\n",
       "      <th>Category</th>\n",
       "      <th>Price</th>\n",
       "      <th>Quantity</th>\n",
       "      <th>Min_Price_Comp</th>\n",
       "      <th>Max_Price_Comp</th>\n",
       "      <th>Avg_Price_Comp</th>\n",
       "      <th>Date</th>\n",
       "    </tr>\n",
       "  </thead>\n",
       "  <tbody>\n",
       "    <tr>\n",
       "      <th>0</th>\n",
       "      <td>B09G92Y196</td>\n",
       "      <td>Disney Sandalias de Frozen y Mickey para niños...</td>\n",
       "      <td>Ultimate footwear</td>\n",
       "      <td>NaN</td>\n",
       "      <td>NaN</td>\n",
       "      <td>NaN</td>\n",
       "      <td>NaN</td>\n",
       "      <td>US$14.99</td>\n",
       "      <td>12</td>\n",
       "      <td>NaN</td>\n",
       "      <td>NaN</td>\n",
       "      <td>NaN</td>\n",
       "      <td>2024-12-27 16:26:34</td>\n",
       "    </tr>\n",
       "    <tr>\n",
       "      <th>1</th>\n",
       "      <td>B08MMJW4GP</td>\n",
       "      <td>KÜB - Juguete de empuje para bebés y niños peq...</td>\n",
       "      <td>KUB Baby</td>\n",
       "      <td>NaN</td>\n",
       "      <td>NaN</td>\n",
       "      <td>NaN</td>\n",
       "      <td>NaN</td>\n",
       "      <td>US$89.99</td>\n",
       "      <td>780</td>\n",
       "      <td>NaN</td>\n",
       "      <td>NaN</td>\n",
       "      <td>NaN</td>\n",
       "      <td>2024-12-27 16:27:46</td>\n",
       "    </tr>\n",
       "    <tr>\n",
       "      <th>2</th>\n",
       "      <td>B0BQHP2BDY</td>\n",
       "      <td>TEEZWONDER Regalos para mamá de hijas e hijos,...</td>\n",
       "      <td>TEEZWONDER STORE</td>\n",
       "      <td>NaN</td>\n",
       "      <td>NaN</td>\n",
       "      <td>NaN</td>\n",
       "      <td>NaN</td>\n",
       "      <td>US$11.99</td>\n",
       "      <td>156</td>\n",
       "      <td>NaN</td>\n",
       "      <td>NaN</td>\n",
       "      <td>NaN</td>\n",
       "      <td>2024-12-27 16:28:54</td>\n",
       "    </tr>\n",
       "    <tr>\n",
       "      <th>3</th>\n",
       "      <td>B0D1MKBG6M</td>\n",
       "      <td>YOUR MOON Almohada suave tamaño Queen para dor...</td>\n",
       "      <td>MeisheHome</td>\n",
       "      <td>NaN</td>\n",
       "      <td>NaN</td>\n",
       "      <td>NaN</td>\n",
       "      <td>NaN</td>\n",
       "      <td>US$33.98</td>\n",
       "      <td>269</td>\n",
       "      <td>NaN</td>\n",
       "      <td>NaN</td>\n",
       "      <td>NaN</td>\n",
       "      <td>2024-12-27 16:29:58</td>\n",
       "    </tr>\n",
       "    <tr>\n",
       "      <th>4</th>\n",
       "      <td>B0D9PT21MS</td>\n",
       "      <td>Pájaro artificial del paraíso de 4 pies de pal...</td>\n",
       "      <td>MeDal</td>\n",
       "      <td>NaN</td>\n",
       "      <td>NaN</td>\n",
       "      <td>NaN</td>\n",
       "      <td>NaN</td>\n",
       "      <td>US$53.85</td>\n",
       "      <td>38</td>\n",
       "      <td>NaN</td>\n",
       "      <td>NaN</td>\n",
       "      <td>NaN</td>\n",
       "      <td>2024-12-27 16:31:02</td>\n",
       "    </tr>\n",
       "    <tr>\n",
       "      <th>...</th>\n",
       "      <td>...</td>\n",
       "      <td>...</td>\n",
       "      <td>...</td>\n",
       "      <td>...</td>\n",
       "      <td>...</td>\n",
       "      <td>...</td>\n",
       "      <td>...</td>\n",
       "      <td>...</td>\n",
       "      <td>...</td>\n",
       "      <td>...</td>\n",
       "      <td>...</td>\n",
       "      <td>...</td>\n",
       "      <td>...</td>\n",
       "    </tr>\n",
       "    <tr>\n",
       "      <th>750</th>\n",
       "      <td>B087CBJ465</td>\n",
       "      <td>Do You Really Know Your Family? A Fun Family G...</td>\n",
       "      <td>ASM Games</td>\n",
       "      <td>4.6</td>\n",
       "      <td>14,571</td>\n",
       "      <td>797.0</td>\n",
       "      <td>Toys &amp; Games</td>\n",
       "      <td>$14.59</td>\n",
       "      <td>500</td>\n",
       "      <td>5.19</td>\n",
       "      <td>39.00</td>\n",
       "      <td>21.36</td>\n",
       "      <td>2025-04-10 14:12:54</td>\n",
       "    </tr>\n",
       "    <tr>\n",
       "      <th>751</th>\n",
       "      <td>B08DLWSN75</td>\n",
       "      <td>Asvin Small Dog Bed for Small Dogs, Cat Beds f...</td>\n",
       "      <td>Lingyi Direct</td>\n",
       "      <td>4.5</td>\n",
       "      <td>7,182</td>\n",
       "      <td>5.0</td>\n",
       "      <td>Cat Beds</td>\n",
       "      <td>$19.99</td>\n",
       "      <td>92</td>\n",
       "      <td>5.63</td>\n",
       "      <td>42.99</td>\n",
       "      <td>21.70</td>\n",
       "      <td>2025-04-10 14:14:43</td>\n",
       "    </tr>\n",
       "    <tr>\n",
       "      <th>752</th>\n",
       "      <td>B0BSVJ9T76</td>\n",
       "      <td>Lifepro GluteBlast Hip Thrust Machine - Premiu...</td>\n",
       "      <td>Amazon.com</td>\n",
       "      <td>4.0</td>\n",
       "      <td>366</td>\n",
       "      <td>33979.0</td>\n",
       "      <td>Sports &amp; Outdoors</td>\n",
       "      <td>$159.99</td>\n",
       "      <td>1000</td>\n",
       "      <td>12.97</td>\n",
       "      <td>2195.00</td>\n",
       "      <td>281.46</td>\n",
       "      <td>2025-04-10 14:16:32</td>\n",
       "    </tr>\n",
       "    <tr>\n",
       "      <th>753</th>\n",
       "      <td>B0D3VS78SJ</td>\n",
       "      <td>Mooyran Colorful Astronaut Galaxy Projector - ...</td>\n",
       "      <td>Mooyran US</td>\n",
       "      <td>4.5</td>\n",
       "      <td>13,680</td>\n",
       "      <td>1681.0</td>\n",
       "      <td>Home &amp; Kitchen</td>\n",
       "      <td>$49.99</td>\n",
       "      <td>5</td>\n",
       "      <td>9.99</td>\n",
       "      <td>49.99</td>\n",
       "      <td>29.68</td>\n",
       "      <td>2025-04-10 14:18:24</td>\n",
       "    </tr>\n",
       "    <tr>\n",
       "      <th>754</th>\n",
       "      <td>B0D9PT21MS</td>\n",
       "      <td>4ft Artificial Tree Bird of Paradise Palm Tree...</td>\n",
       "      <td>MeDal</td>\n",
       "      <td>3.8</td>\n",
       "      <td>28</td>\n",
       "      <td>724566.0</td>\n",
       "      <td>Home &amp; Kitchen</td>\n",
       "      <td>$52.99</td>\n",
       "      <td>37</td>\n",
       "      <td>1.11</td>\n",
       "      <td>179.99</td>\n",
       "      <td>66.32</td>\n",
       "      <td>2025-04-10 14:19:54</td>\n",
       "    </tr>\n",
       "  </tbody>\n",
       "</table>\n",
       "<p>755 rows × 13 columns</p>\n",
       "</div>"
      ],
      "text/plain": [
       "    Product_Code                                              Title  \\\n",
       "0     B09G92Y196  Disney Sandalias de Frozen y Mickey para niños...   \n",
       "1     B08MMJW4GP  KÜB - Juguete de empuje para bebés y niños peq...   \n",
       "2     B0BQHP2BDY  TEEZWONDER Regalos para mamá de hijas e hijos,...   \n",
       "3     B0D1MKBG6M  YOUR MOON Almohada suave tamaño Queen para dor...   \n",
       "4     B0D9PT21MS  Pájaro artificial del paraíso de 4 pies de pal...   \n",
       "..           ...                                                ...   \n",
       "750   B087CBJ465  Do You Really Know Your Family? A Fun Family G...   \n",
       "751   B08DLWSN75  Asvin Small Dog Bed for Small Dogs, Cat Beds f...   \n",
       "752   B0BSVJ9T76  Lifepro GluteBlast Hip Thrust Machine - Premiu...   \n",
       "753   B0D3VS78SJ  Mooyran Colorful Astronaut Galaxy Projector - ...   \n",
       "754   B0D9PT21MS  4ft Artificial Tree Bird of Paradise Palm Tree...   \n",
       "\n",
       "           Vendor_Name  Rating Num_Ratings   Ranking           Category  \\\n",
       "0    Ultimate footwear     NaN         NaN       NaN                NaN   \n",
       "1             KUB Baby     NaN         NaN       NaN                NaN   \n",
       "2     TEEZWONDER STORE     NaN         NaN       NaN                NaN   \n",
       "3           MeisheHome     NaN         NaN       NaN                NaN   \n",
       "4                MeDal     NaN         NaN       NaN                NaN   \n",
       "..                 ...     ...         ...       ...                ...   \n",
       "750          ASM Games     4.6      14,571     797.0       Toys & Games   \n",
       "751      Lingyi Direct     4.5       7,182       5.0           Cat Beds   \n",
       "752         Amazon.com     4.0         366   33979.0  Sports & Outdoors   \n",
       "753         Mooyran US     4.5      13,680    1681.0     Home & Kitchen   \n",
       "754              MeDal     3.8          28  724566.0     Home & Kitchen   \n",
       "\n",
       "        Price  Quantity  Min_Price_Comp  Max_Price_Comp  Avg_Price_Comp  \\\n",
       "0    US$14.99        12             NaN             NaN             NaN   \n",
       "1    US$89.99       780             NaN             NaN             NaN   \n",
       "2    US$11.99       156             NaN             NaN             NaN   \n",
       "3    US$33.98       269             NaN             NaN             NaN   \n",
       "4    US$53.85        38             NaN             NaN             NaN   \n",
       "..        ...       ...             ...             ...             ...   \n",
       "750    $14.59       500            5.19           39.00           21.36   \n",
       "751    $19.99        92            5.63           42.99           21.70   \n",
       "752   $159.99      1000           12.97         2195.00          281.46   \n",
       "753    $49.99         5            9.99           49.99           29.68   \n",
       "754    $52.99        37            1.11          179.99           66.32   \n",
       "\n",
       "                    Date  \n",
       "0    2024-12-27 16:26:34  \n",
       "1    2024-12-27 16:27:46  \n",
       "2    2024-12-27 16:28:54  \n",
       "3    2024-12-27 16:29:58  \n",
       "4    2024-12-27 16:31:02  \n",
       "..                   ...  \n",
       "750  2025-04-10 14:12:54  \n",
       "751  2025-04-10 14:14:43  \n",
       "752  2025-04-10 14:16:32  \n",
       "753  2025-04-10 14:18:24  \n",
       "754  2025-04-10 14:19:54  \n",
       "\n",
       "[755 rows x 13 columns]"
      ]
     },
     "execution_count": 2,
     "metadata": {},
     "output_type": "execute_result"
    }
   ],
   "source": [
    "# Leer datos de data.csv que se encuentra en ../output\n",
    "df = pd.read_csv('../output/data.csv', sep='|')\n",
    "df"
   ]
  },
  {
   "cell_type": "code",
   "execution_count": 3,
   "id": "d000a284",
   "metadata": {},
   "outputs": [
    {
     "data": {
      "application/vnd.microsoft.datawrangler.viewer.v0+json": {
       "columns": [
        {
         "name": "index",
         "rawType": "int64",
         "type": "integer"
        },
        {
         "name": "Product_Code",
         "rawType": "object",
         "type": "string"
        },
        {
         "name": "Title",
         "rawType": "object",
         "type": "string"
        },
        {
         "name": "Vendor_Name",
         "rawType": "object",
         "type": "unknown"
        },
        {
         "name": "Rating",
         "rawType": "float64",
         "type": "float"
        },
        {
         "name": "Num_Ratings",
         "rawType": "object",
         "type": "unknown"
        },
        {
         "name": "Ranking",
         "rawType": "float64",
         "type": "float"
        },
        {
         "name": "Category",
         "rawType": "object",
         "type": "unknown"
        },
        {
         "name": "Price",
         "rawType": "object",
         "type": "string"
        },
        {
         "name": "Quantity",
         "rawType": "int64",
         "type": "integer"
        },
        {
         "name": "Min_Price_Comp",
         "rawType": "float64",
         "type": "float"
        },
        {
         "name": "Max_Price_Comp",
         "rawType": "float64",
         "type": "float"
        },
        {
         "name": "Avg_Price_Comp",
         "rawType": "float64",
         "type": "float"
        },
        {
         "name": "Date",
         "rawType": "datetime64[ns]",
         "type": "datetime"
        },
        {
         "name": "Units_Sold",
         "rawType": "float64",
         "type": "float"
        }
       ],
       "conversionMethod": "pd.DataFrame",
       "ref": "dfe52bcf-dd20-4682-a277-d44c784e7569",
       "rows": [
        [
         "277",
         "B076JLCN2D",
         "Coleman FreeFlow AutoSeal Stainless Steal Water Bottle, 24oz, Black",
         "Amazon.com",
         "4.7",
         "4,621",
         null,
         null,
         "28.99",
         "27",
         "5.99",
         "39.99",
         "19.81",
         "2025-02-21 12:01:11",
         "973.0"
        ],
        [
         "283",
         "B076JLCN2D",
         "Coleman FreeFlow AutoSeal Stainless Steal Water Bottle, 24oz, Black",
         "Amazon.com",
         "4.7",
         "4,624",
         null,
         null,
         "0.59",
         "27",
         "0.59",
         "59.81",
         "21.7",
         "2025-02-22 13:13:31",
         "0.0"
        ],
        [
         "291",
         "B076JLCN2D",
         "Coleman FreeFlow AutoSeal Stainless Steal Water Bottle, 24oz, Black",
         "Amazon.com",
         "4.7",
         "4,624",
         null,
         null,
         "0.59",
         "27",
         "0.53",
         "49.39",
         "20.25",
         "2025-02-23 13:08:52",
         "0.0"
        ],
        [
         "305",
         "B076JLCN2D",
         "Coleman FreeFlow AutoSeal Stainless Steal Water Bottle, 24oz, Black",
         "Amazon.com",
         "4.7",
         "4,624",
         null,
         null,
         "28.99",
         "27",
         "0.47",
         "49.39",
         "21.55",
         "2025-02-24 09:36:57",
         "0.0"
        ],
        [
         "317",
         "B076JLCN2D",
         "Coleman FreeFlow AutoSeal Stainless Steal Water Bottle, 24oz, Black",
         "Amazon.com",
         "4.7",
         "4,624",
         null,
         null,
         "28.99",
         "27",
         "5.99",
         "40.36",
         "20.31",
         "2025-02-25 09:18:57",
         "0.0"
        ],
        [
         "324",
         "B076JLCN2D",
         "Coleman FreeFlow AutoSeal Stainless Steal Water Bottle, 24oz, Black",
         "Amazon.com",
         "4.7",
         "4,624",
         null,
         null,
         "28.99",
         "27",
         "0.47",
         "49.39",
         "22.7",
         "2025-02-26 17:03:13",
         "0.0"
        ],
        [
         "335",
         "B076JLCN2D",
         "Coleman FreeFlow AutoSeal Stainless Steal Water Bottle, 24oz, Black",
         "Amazon.com",
         "4.7",
         "4,623",
         null,
         null,
         "21.99",
         "27",
         "0.47",
         "39.99",
         "21.02",
         "2025-02-26 23:50:32",
         "0.0"
        ],
        [
         "337",
         "B076JLCN2D",
         "Coleman FreeFlow AutoSeal Stainless Steal Water Bottle, 24oz, Black",
         "Amazon.com",
         "4.7",
         "4,623",
         null,
         null,
         "28.99",
         "27",
         "0.47",
         "53.99",
         "21.65",
         "2025-02-27 07:53:12",
         "0.0"
        ],
        [
         "356",
         "B076JLCN2D",
         "Coleman FreeFlow AutoSeal Stainless Steal Water Bottle, 24oz, Black",
         "Amazon.com",
         "4.7",
         "4,623",
         null,
         null,
         "$29.99",
         "27",
         "0.47",
         "276.99",
         "23.93",
         "2025-03-01 00:36:59",
         "0.0"
        ],
        [
         "367",
         "B076JLCN2D",
         "Coleman FreeFlow AutoSeal Stainless Steal Water Bottle, 24oz, Black",
         null,
         "4.7",
         "4,626",
         null,
         null,
         "$29.99",
         "27",
         "0.47",
         "49.39",
         "22.79",
         "2025-03-02 12:15:24",
         "0.0"
        ],
        [
         "372",
         "B076JLCN2D",
         "Coleman FreeFlow AutoSeal Stainless Steal Water Bottle, 24oz, Black",
         "Amazon.com",
         "4.7",
         "4,628",
         null,
         null,
         "$29.99",
         "27",
         "0.47",
         "75.0",
         "22.76",
         "2025-03-03 20:08:38",
         "0.0"
        ],
        [
         "383",
         "B076JLCN2D",
         "Coleman FreeFlow AutoSeal Stainless Steal Water Bottle, 24oz, Black",
         "Amazon.com",
         "4.7",
         "4,630",
         null,
         null,
         "$29.99",
         "27",
         "0.47",
         "39.99",
         "20.67",
         "2025-03-04 16:05:27",
         "0.0"
        ],
        [
         "401",
         "B076JLCN2D",
         "Coleman FreeFlow AutoSeal Stainless Steal Water Bottle, 24oz, Black",
         "Amazon.com",
         "4.7",
         "4,631",
         null,
         null,
         "$29.99",
         "27",
         "0.47",
         "169.99",
         "26.33",
         "2025-03-05 14:05:42",
         "0.0"
        ],
        [
         "413",
         "B076JLCN2D",
         "Coleman FreeFlow AutoSeal Stainless Steal Water Bottle, 24oz, Black",
         "Amazon.com",
         "4.7",
         "4,632",
         null,
         null,
         "$29.99",
         "27",
         "5.99",
         "42.99",
         "22.19",
         "2025-03-06 16:46:37",
         "0.0"
        ],
        [
         "423",
         "B076JLCN2D",
         "Coleman FreeFlow AutoSeal Stainless Steal Water Bottle, 24oz, Black",
         "Amazon.com",
         "4.7",
         "4,632",
         null,
         null,
         "$29.99",
         "27",
         "0.47",
         "169.99",
         "25.64",
         "2025-03-07 14:10:39",
         "0.0"
        ],
        [
         "429",
         "B076JLCN2D",
         "Coleman FreeFlow AutoSeal Stainless Steal Water Bottle, 24oz, Black",
         "Amazon.com",
         "4.7",
         "4,633",
         null,
         null,
         "$29.99",
         "27",
         "0.31",
         "49.38",
         "21.59",
         "2025-03-08 13:30:02",
         "0.0"
        ],
        [
         "439",
         "B076JLCN2D",
         "Coleman FreeFlow AutoSeal Stainless Steal Water Bottle, 24oz, Black",
         "Amazon.com",
         "4.7",
         "4,637",
         null,
         null,
         "$29.99",
         "27",
         "5.99",
         "42.99",
         "22.69",
         "2025-03-09 10:32:01",
         "0.0"
        ],
        [
         "449",
         "B076JLCN2D",
         "Coleman FreeFlow AutoSeal Stainless Steal Water Bottle, 24oz, Black",
         "Amazon.com",
         "4.7",
         "4,637",
         null,
         null,
         "$29.99",
         "27",
         "0.31",
         "69.99",
         "22.05",
         "2025-03-10 17:03:52",
         "0.0"
        ],
        [
         "461",
         "B076JLCN2D",
         "Coleman FreeFlow AutoSeal Stainless Steal Water Bottle, 24oz, Black",
         "Amazon.com",
         "4.7",
         "4,639",
         null,
         null,
         "$29.99",
         "27",
         "0.31",
         "49.37",
         "21.13",
         "2025-03-11 17:34:05",
         "0.0"
        ],
        [
         "476",
         "B076JLCN2D",
         "Coleman FreeFlow AutoSeal Stainless Steal Water Bottle, 24oz, Black",
         "Amazon.com",
         "4.7",
         "4,640",
         null,
         null,
         "$29.99",
         "27",
         "8.75",
         "169.99",
         "26.08",
         "2025-03-12 14:48:14",
         "0.0"
        ],
        [
         "482",
         "B076JLCN2D",
         "Coleman FreeFlow AutoSeal Stainless Steal Water Bottle, 24oz, Black",
         "Amazon.com",
         "4.7",
         "4,643",
         null,
         null,
         "$29.99",
         "27",
         "0.47",
         "49.37",
         "22.09",
         "2025-03-13 16:58:31",
         "0.0"
        ],
        [
         "498",
         "B076JLCN2D",
         "Coleman",
         "Amazon.com",
         "4.7",
         "11,304",
         null,
         null,
         "$29.99",
         "27",
         "29.99",
         "29.99",
         "29.99",
         "2025-03-14 15:13:37",
         "0.0"
        ],
        [
         "502",
         "B076JLCN2D",
         "Coleman",
         "Amazon.com",
         "4.7",
         "11,307",
         null,
         null,
         "$29.99",
         "27",
         "12.99",
         "319.72",
         "69.74",
         "2025-03-15 11:37:13",
         "0.0"
        ],
        [
         "530",
         "B076JLCN2D",
         "Coleman Autoseal FreeFlow Stainless Steel Water Bottle, Black, 40 oz",
         "Amazon.com",
         "4.7",
         "11,258",
         "5.0",
         "Sports & Outdoors",
         "$29.99",
         "1",
         "0.25",
         "46.99",
         "22.09",
         "2025-03-17 10:00:26",
         "999.0"
        ],
        [
         "551",
         "B076JLCN2D",
         "Coleman Autoseal FreeFlow Stainless Steel Water Bottle, Black, 40 oz",
         "Amazon.com",
         "4.7",
         "11,264",
         "5.0",
         "Sports & Outdoors",
         "$29.99",
         "1000",
         "0.3",
         "48.67",
         "22.16",
         "2025-03-19 09:53:44",
         "0.0"
        ],
        [
         "573",
         "B076JLCN2D",
         "Coleman Autoseal FreeFlow Stainless Steel Water Bottle, Black, 40 oz",
         "Amazon.com",
         "4.7",
         "11,265",
         "5.0",
         "Sports & Outdoors",
         "$29.99",
         "1",
         "5.99",
         "49.99",
         "24.73",
         "2025-03-20 10:44:50",
         "999.0"
        ],
        [
         "596",
         "B076JLCN2D",
         "Coleman Autoseal FreeFlow Stainless Steel Water Bottle, Black, 40 oz",
         "Amazon.com",
         "4.7",
         "11,266",
         "5.0",
         "Sports & Outdoors",
         "$29.99",
         "1000",
         "5.99",
         "69.99",
         "23.99",
         "2025-03-22 16:55:29",
         "0.0"
        ],
        [
         "603",
         "B076JLCN2D",
         "Coleman Autoseal FreeFlow Stainless Steel Water Bottle, Black, 40 oz",
         "Amazon.com",
         "4.7",
         "11,268",
         "5.0",
         "Sports & Outdoors",
         "$29.99",
         "1000",
         "5.99",
         "46.99",
         "23.93",
         "2025-03-23 16:53:10",
         "0.0"
        ],
        [
         "608",
         "B076JLCN2D",
         "Coleman Autoseal FreeFlow Stainless Steel Water Bottle, Black, 40 oz",
         "Amazon.com",
         "4.7",
         "11,270",
         "6.0",
         "Sports & Outdoors",
         "$29.99",
         "1000",
         "5.99",
         "49.99",
         "24.49",
         "2025-03-24 21:23:57",
         "0.0"
        ],
        [
         "623",
         "B076JLCN2D",
         "Coleman Autoseal FreeFlow Stainless Steel Water Bottle, Black, 40 oz",
         "Amazon.com",
         "4.7",
         "4,642",
         "6.0",
         "Sports & Outdoors",
         "$29.99",
         "1000",
         "0.3",
         "59.99",
         "23.44",
         "2025-03-25 13:48:12",
         "0.0"
        ],
        [
         "632",
         "B076JLCN2D",
         "Coleman Autoseal FreeFlow Stainless Steel Water Bottle, Black, 40 oz",
         "Amazon.com",
         "4.7",
         "4,642",
         "6.0",
         "Sports & Outdoors",
         "$29.99",
         "1000",
         "0.3",
         "79.99",
         "22.61",
         "2025-03-25 14:56:02",
         "0.0"
        ],
        [
         "639",
         "B076JLCN2D",
         "Coleman Autoseal FreeFlow Stainless Steel Water Bottle, Black, 40 oz",
         "Amazon.com",
         "4.7",
         "11,831",
         "5.0",
         "Sports & Outdoors",
         "$29.99",
         "1000",
         "5.99",
         "79.99",
         "24.12",
         "2025-03-27 09:16:15",
         "0.0"
        ],
        [
         "653",
         "B076JLCN2D",
         "Coleman Autoseal FreeFlow Stainless Steel Water Bottle, Black, 40 oz",
         "Amazon.com",
         "4.7",
         "11,831",
         "5.0",
         "Sports & Outdoors",
         "$29.99",
         "1000",
         "5.99",
         "79.99",
         "24.32",
         "2025-03-28 15:55:39",
         "0.0"
        ],
        [
         "655",
         "B076JLCN2D",
         "Coleman Autoseal FreeFlow Stainless Steel Water Bottle, Black, 40 oz",
         "Amazon.com",
         "4.7",
         "11,834",
         "3.0",
         "Sports & Outdoors",
         "$29.99",
         "1000",
         "9.94",
         "79.99",
         "24.75",
         "2025-03-31 14:18:53",
         "0.0"
        ],
        [
         "675",
         "B076JLCN2D",
         "Coleman Autoseal FreeFlow Stainless Steel Water Bottle, Black, 24oz",
         "Amazon.com",
         "4.7",
         "11,839",
         "4416.0",
         "Sports & Outdoors",
         "$29.99",
         "1000",
         "5.99",
         "71.98",
         "24.6",
         "2025-04-03 14:30:34",
         "0.0"
        ],
        [
         "687",
         "B076JLCN2D",
         "Coleman Autoseal FreeFlow Stainless Steel Water Bottle, Black, 24oz",
         "Amazon.com",
         "4.7",
         "11,839",
         "3643.0",
         "Sports & Outdoors",
         "$29.99",
         "1000",
         "5.99",
         "71.98",
         "23.64",
         "2025-04-04 15:14:10",
         "0.0"
        ],
        [
         "699",
         "B076JLCN2D",
         "Coleman Autoseal FreeFlow Stainless Steel Water Bottle, Black, 24oz",
         "Amazon.com",
         "4.7",
         "11,839",
         "4116.0",
         "Sports & Outdoors",
         "$29.99",
         "1000",
         "5.99",
         "71.98",
         "25.35",
         "2025-04-05 20:31:29",
         "0.0"
        ],
        [
         "705",
         "B076JLCN2D",
         "Coleman Autoseal FreeFlow Stainless Steel Water Bottle, Black, 24oz",
         "Amazon.com",
         "4.7",
         "11,840",
         "4025.0",
         "Sports & Outdoors",
         "$29.99",
         "1000",
         "9.99",
         "71.98",
         "24.71",
         "2025-04-06 13:48:33",
         "0.0"
        ],
        [
         "714",
         "B076JLCN2D",
         "Coleman Autoseal FreeFlow Stainless Steel Water Bottle, Black, 24oz",
         "Amazon.com",
         "4.7",
         "11,842",
         "4004.0",
         "Sports & Outdoors",
         "$29.99",
         "1000",
         "5.99",
         "71.98",
         "22.61",
         "2025-04-07 11:57:00",
         "0.0"
        ],
        [
         "728",
         "B076JLCN2D",
         "Coleman Autoseal FreeFlow Stainless Steel Water Bottle, Black, 24oz",
         "Amazon.com",
         "4.7",
         "11,842",
         "4324.0",
         "Sports & Outdoors",
         "$29.99",
         "1000",
         "5.99",
         "71.98",
         "23.65",
         "2025-04-08 16:23:49",
         "0.0"
        ],
        [
         "742",
         "B076JLCN2D",
         "Coleman Autoseal FreeFlow Stainless Steel Water Bottle, Black, 24oz",
         "Amazon.com",
         "4.7",
         "11,842",
         "4524.0",
         "Sports & Outdoors",
         "$29.99",
         "1000",
         "5.99",
         "71.98",
         "23.86",
         "2025-04-09 19:01:49",
         "0.0"
        ],
        [
         "748",
         "B076JLCN2D",
         "Coleman Autoseal FreeFlow Stainless Steel Water Bottle, Black, 24oz",
         "Amazon.com",
         "4.7",
         "11,842",
         "4107.0",
         "Sports & Outdoors",
         "$29.99",
         "1000",
         "5.99",
         "71.98",
         "22.74",
         "2025-04-10 14:09:17",
         "0.0"
        ],
        [
         "222",
         "B087CBJ465",
         "Do You Really Know Your Family? Un divertido juego familiar lleno de iniciadores de conversación y desafíos, ideal para niños, adolescentes y adultos",
         "ASM Games",
         "4.6",
         "14,343",
         null,
         null,
         "26.95",
         "500",
         "5.99",
         "54.99",
         "21.05",
         "2025-02-15 12:28:40",
         "0.0"
        ],
        [
         "239",
         "B087CBJ465",
         "Do You Really Know Your Family? Un divertido juego familiar lleno de iniciadores de conversación y desafíos, ideal para niños, adolescentes y adultos",
         "ASM Games",
         "4.6",
         "14,348",
         null,
         null,
         "12.99",
         "500",
         "0.51",
         "79.99",
         "22.45",
         "2025-02-17 09:01:32",
         "0.0"
        ],
        [
         "241",
         "B087CBJ465",
         "Do You Really Know Your Family? A Fun Family Game Filled with Conversation Starters and Challenges - Great for Kids, Teens and Adults",
         "ASM Games",
         "4.6",
         "14,356",
         null,
         null,
         "23.99",
         "500",
         "5.19",
         "39.0",
         "21.05",
         "2025-02-18 10:47:36",
         "0.0"
        ],
        [
         "255",
         "B087CBJ465",
         "Do You Really Know Your Family? A Fun Family Game Filled with Conversation Starters and Challenges - Great for Kids, Teens and Adults",
         "ASM Games",
         "4.6",
         "14,356",
         null,
         null,
         "15.95",
         "500",
         "0.21",
         "39.99",
         "21.81",
         "2025-02-19 07:48:59",
         "0.0"
        ],
        [
         "264",
         "B087CBJ465",
         "Do You Really Know Your Family? A Fun Family Game Filled with Conversation Starters and Challenges - Great for Kids, Teens and Adults",
         "ASM Games",
         "4.6",
         "14,373",
         null,
         null,
         "24.97",
         "500",
         "5.19",
         "39.99",
         "21.7",
         "2025-02-20 10:58:46",
         "0.0"
        ],
        [
         "273",
         "B087CBJ465",
         "Do You Really Know Your Family? A Fun Family Game Filled with Conversation Starters and Challenges - Great for Kids, Teens and Adults",
         "ASM Games",
         "4.6",
         "14,375",
         null,
         null,
         "19.99",
         "500",
         "0.11",
         "40.0",
         "20.1",
         "2025-02-21 09:24:17",
         "0.0"
        ],
        [
         "286",
         "B087CBJ465",
         "Do You Really Know Your Family? A Fun Family Game Filled with Conversation Starters and Challenges - Great for Kids, Teens and Adults",
         "ASM Games",
         "4.6",
         "14,384",
         null,
         null,
         "24.95",
         "500",
         "9.29",
         "40.0",
         "22.26",
         "2025-02-22 13:17:56",
         "0.0"
        ],
        [
         "298",
         "B087CBJ465",
         "Do You Really Know Your Family? A Fun Family Game Filled with Conversation Starters and Challenges - Great for Kids, Teens and Adults",
         "ASM Games",
         "4.6",
         "14,386",
         null,
         null,
         "26.99",
         "500",
         "4.99",
         "39.0",
         "21.31",
         "2025-02-23 13:18:15",
         "0.0"
        ]
       ],
       "shape": {
        "columns": 14,
        "rows": 618
       }
      },
      "text/html": [
       "<div>\n",
       "<style scoped>\n",
       "    .dataframe tbody tr th:only-of-type {\n",
       "        vertical-align: middle;\n",
       "    }\n",
       "\n",
       "    .dataframe tbody tr th {\n",
       "        vertical-align: top;\n",
       "    }\n",
       "\n",
       "    .dataframe thead th {\n",
       "        text-align: right;\n",
       "    }\n",
       "</style>\n",
       "<table border=\"1\" class=\"dataframe\">\n",
       "  <thead>\n",
       "    <tr style=\"text-align: right;\">\n",
       "      <th></th>\n",
       "      <th>Product_Code</th>\n",
       "      <th>Title</th>\n",
       "      <th>Vendor_Name</th>\n",
       "      <th>Rating</th>\n",
       "      <th>Num_Ratings</th>\n",
       "      <th>Ranking</th>\n",
       "      <th>Category</th>\n",
       "      <th>Price</th>\n",
       "      <th>Quantity</th>\n",
       "      <th>Min_Price_Comp</th>\n",
       "      <th>Max_Price_Comp</th>\n",
       "      <th>Avg_Price_Comp</th>\n",
       "      <th>Date</th>\n",
       "      <th>Units_Sold</th>\n",
       "    </tr>\n",
       "  </thead>\n",
       "  <tbody>\n",
       "    <tr>\n",
       "      <th>277</th>\n",
       "      <td>B076JLCN2D</td>\n",
       "      <td>Coleman FreeFlow AutoSeal Stainless Steal Wate...</td>\n",
       "      <td>Amazon.com</td>\n",
       "      <td>4.7</td>\n",
       "      <td>4,621</td>\n",
       "      <td>NaN</td>\n",
       "      <td>NaN</td>\n",
       "      <td>28.99</td>\n",
       "      <td>27</td>\n",
       "      <td>5.99</td>\n",
       "      <td>39.99</td>\n",
       "      <td>19.81</td>\n",
       "      <td>2025-02-21 12:01:11</td>\n",
       "      <td>973.0</td>\n",
       "    </tr>\n",
       "    <tr>\n",
       "      <th>283</th>\n",
       "      <td>B076JLCN2D</td>\n",
       "      <td>Coleman FreeFlow AutoSeal Stainless Steal Wate...</td>\n",
       "      <td>Amazon.com</td>\n",
       "      <td>4.7</td>\n",
       "      <td>4,624</td>\n",
       "      <td>NaN</td>\n",
       "      <td>NaN</td>\n",
       "      <td>0.59</td>\n",
       "      <td>27</td>\n",
       "      <td>0.59</td>\n",
       "      <td>59.81</td>\n",
       "      <td>21.70</td>\n",
       "      <td>2025-02-22 13:13:31</td>\n",
       "      <td>0.0</td>\n",
       "    </tr>\n",
       "    <tr>\n",
       "      <th>291</th>\n",
       "      <td>B076JLCN2D</td>\n",
       "      <td>Coleman FreeFlow AutoSeal Stainless Steal Wate...</td>\n",
       "      <td>Amazon.com</td>\n",
       "      <td>4.7</td>\n",
       "      <td>4,624</td>\n",
       "      <td>NaN</td>\n",
       "      <td>NaN</td>\n",
       "      <td>0.59</td>\n",
       "      <td>27</td>\n",
       "      <td>0.53</td>\n",
       "      <td>49.39</td>\n",
       "      <td>20.25</td>\n",
       "      <td>2025-02-23 13:08:52</td>\n",
       "      <td>0.0</td>\n",
       "    </tr>\n",
       "    <tr>\n",
       "      <th>305</th>\n",
       "      <td>B076JLCN2D</td>\n",
       "      <td>Coleman FreeFlow AutoSeal Stainless Steal Wate...</td>\n",
       "      <td>Amazon.com</td>\n",
       "      <td>4.7</td>\n",
       "      <td>4,624</td>\n",
       "      <td>NaN</td>\n",
       "      <td>NaN</td>\n",
       "      <td>28.99</td>\n",
       "      <td>27</td>\n",
       "      <td>0.47</td>\n",
       "      <td>49.39</td>\n",
       "      <td>21.55</td>\n",
       "      <td>2025-02-24 09:36:57</td>\n",
       "      <td>0.0</td>\n",
       "    </tr>\n",
       "    <tr>\n",
       "      <th>317</th>\n",
       "      <td>B076JLCN2D</td>\n",
       "      <td>Coleman FreeFlow AutoSeal Stainless Steal Wate...</td>\n",
       "      <td>Amazon.com</td>\n",
       "      <td>4.7</td>\n",
       "      <td>4,624</td>\n",
       "      <td>NaN</td>\n",
       "      <td>NaN</td>\n",
       "      <td>28.99</td>\n",
       "      <td>27</td>\n",
       "      <td>5.99</td>\n",
       "      <td>40.36</td>\n",
       "      <td>20.31</td>\n",
       "      <td>2025-02-25 09:18:57</td>\n",
       "      <td>0.0</td>\n",
       "    </tr>\n",
       "    <tr>\n",
       "      <th>...</th>\n",
       "      <td>...</td>\n",
       "      <td>...</td>\n",
       "      <td>...</td>\n",
       "      <td>...</td>\n",
       "      <td>...</td>\n",
       "      <td>...</td>\n",
       "      <td>...</td>\n",
       "      <td>...</td>\n",
       "      <td>...</td>\n",
       "      <td>...</td>\n",
       "      <td>...</td>\n",
       "      <td>...</td>\n",
       "      <td>...</td>\n",
       "      <td>...</td>\n",
       "    </tr>\n",
       "    <tr>\n",
       "      <th>583</th>\n",
       "      <td>B0DRC5TDFD</td>\n",
       "      <td>18K Gold Plated Clover Lucky Bracelet for Wome...</td>\n",
       "      <td>AIPPK</td>\n",
       "      <td>4.2</td>\n",
       "      <td>408</td>\n",
       "      <td>1.0</td>\n",
       "      <td>Women's Link Charm Bracelets</td>\n",
       "      <td>$13.97</td>\n",
       "      <td>20</td>\n",
       "      <td>2.83</td>\n",
       "      <td>54.99</td>\n",
       "      <td>15.83</td>\n",
       "      <td>2025-03-21 16:42:15</td>\n",
       "      <td>0.0</td>\n",
       "    </tr>\n",
       "    <tr>\n",
       "      <th>602</th>\n",
       "      <td>B0DRC5TDFD</td>\n",
       "      <td>18K Gold Plated Clover Lucky Bracelet for Wome...</td>\n",
       "      <td>AIPPK</td>\n",
       "      <td>4.2</td>\n",
       "      <td>414</td>\n",
       "      <td>1.0</td>\n",
       "      <td>Women's Link Charm Bracelets</td>\n",
       "      <td>$13.97</td>\n",
       "      <td>20</td>\n",
       "      <td>1.22</td>\n",
       "      <td>39.99</td>\n",
       "      <td>14.29</td>\n",
       "      <td>2025-03-23 16:51:43</td>\n",
       "      <td>0.0</td>\n",
       "    </tr>\n",
       "    <tr>\n",
       "      <th>609</th>\n",
       "      <td>B0DRC5TDFD</td>\n",
       "      <td>18K Gold Plated Clover Lucky Bracelet for Wome...</td>\n",
       "      <td>AIPPK</td>\n",
       "      <td>4.2</td>\n",
       "      <td>416</td>\n",
       "      <td>1.0</td>\n",
       "      <td>Women's Link Charm Bracelets</td>\n",
       "      <td>$13.97</td>\n",
       "      <td>20</td>\n",
       "      <td>1.22</td>\n",
       "      <td>29.99</td>\n",
       "      <td>13.84</td>\n",
       "      <td>2025-03-24 21:25:24</td>\n",
       "      <td>0.0</td>\n",
       "    </tr>\n",
       "    <tr>\n",
       "      <th>625</th>\n",
       "      <td>B0DRC5TDFD</td>\n",
       "      <td>18K Gold Plated Clover Lucky Bracelet for Wome...</td>\n",
       "      <td>AIPPK</td>\n",
       "      <td>4.2</td>\n",
       "      <td>421</td>\n",
       "      <td>1.0</td>\n",
       "      <td>Women's Link Charm Bracelets</td>\n",
       "      <td>$13.97</td>\n",
       "      <td>20</td>\n",
       "      <td>3.39</td>\n",
       "      <td>54.99</td>\n",
       "      <td>15.26</td>\n",
       "      <td>2025-03-25 13:51:47</td>\n",
       "      <td>0.0</td>\n",
       "    </tr>\n",
       "    <tr>\n",
       "      <th>631</th>\n",
       "      <td>B0DRC5TDFD</td>\n",
       "      <td>18K Gold Plated Clover Lucky Bracelet for Wome...</td>\n",
       "      <td>AIPPK</td>\n",
       "      <td>4.2</td>\n",
       "      <td>421</td>\n",
       "      <td>1.0</td>\n",
       "      <td>Women's Link Charm Bracelets</td>\n",
       "      <td>$13.97</td>\n",
       "      <td>20</td>\n",
       "      <td>5.07</td>\n",
       "      <td>54.99</td>\n",
       "      <td>14.22</td>\n",
       "      <td>2025-03-25 14:33:34</td>\n",
       "      <td>0.0</td>\n",
       "    </tr>\n",
       "  </tbody>\n",
       "</table>\n",
       "<p>618 rows × 14 columns</p>\n",
       "</div>"
      ],
      "text/plain": [
       "    Product_Code                                              Title  \\\n",
       "277   B076JLCN2D  Coleman FreeFlow AutoSeal Stainless Steal Wate...   \n",
       "283   B076JLCN2D  Coleman FreeFlow AutoSeal Stainless Steal Wate...   \n",
       "291   B076JLCN2D  Coleman FreeFlow AutoSeal Stainless Steal Wate...   \n",
       "305   B076JLCN2D  Coleman FreeFlow AutoSeal Stainless Steal Wate...   \n",
       "317   B076JLCN2D  Coleman FreeFlow AutoSeal Stainless Steal Wate...   \n",
       "..           ...                                                ...   \n",
       "583   B0DRC5TDFD  18K Gold Plated Clover Lucky Bracelet for Wome...   \n",
       "602   B0DRC5TDFD  18K Gold Plated Clover Lucky Bracelet for Wome...   \n",
       "609   B0DRC5TDFD  18K Gold Plated Clover Lucky Bracelet for Wome...   \n",
       "625   B0DRC5TDFD  18K Gold Plated Clover Lucky Bracelet for Wome...   \n",
       "631   B0DRC5TDFD  18K Gold Plated Clover Lucky Bracelet for Wome...   \n",
       "\n",
       "    Vendor_Name  Rating Num_Ratings  Ranking                      Category  \\\n",
       "277  Amazon.com     4.7       4,621      NaN                           NaN   \n",
       "283  Amazon.com     4.7       4,624      NaN                           NaN   \n",
       "291  Amazon.com     4.7       4,624      NaN                           NaN   \n",
       "305  Amazon.com     4.7       4,624      NaN                           NaN   \n",
       "317  Amazon.com     4.7       4,624      NaN                           NaN   \n",
       "..          ...     ...         ...      ...                           ...   \n",
       "583       AIPPK     4.2         408      1.0  Women's Link Charm Bracelets   \n",
       "602       AIPPK     4.2         414      1.0  Women's Link Charm Bracelets   \n",
       "609       AIPPK     4.2         416      1.0  Women's Link Charm Bracelets   \n",
       "625       AIPPK     4.2         421      1.0  Women's Link Charm Bracelets   \n",
       "631       AIPPK     4.2         421      1.0  Women's Link Charm Bracelets   \n",
       "\n",
       "      Price  Quantity  Min_Price_Comp  Max_Price_Comp  Avg_Price_Comp  \\\n",
       "277   28.99        27            5.99           39.99           19.81   \n",
       "283    0.59        27            0.59           59.81           21.70   \n",
       "291    0.59        27            0.53           49.39           20.25   \n",
       "305   28.99        27            0.47           49.39           21.55   \n",
       "317   28.99        27            5.99           40.36           20.31   \n",
       "..      ...       ...             ...             ...             ...   \n",
       "583  $13.97        20            2.83           54.99           15.83   \n",
       "602  $13.97        20            1.22           39.99           14.29   \n",
       "609  $13.97        20            1.22           29.99           13.84   \n",
       "625  $13.97        20            3.39           54.99           15.26   \n",
       "631  $13.97        20            5.07           54.99           14.22   \n",
       "\n",
       "                   Date  Units_Sold  \n",
       "277 2025-02-21 12:01:11       973.0  \n",
       "283 2025-02-22 13:13:31         0.0  \n",
       "291 2025-02-23 13:08:52         0.0  \n",
       "305 2025-02-24 09:36:57         0.0  \n",
       "317 2025-02-25 09:18:57         0.0  \n",
       "..                  ...         ...  \n",
       "583 2025-03-21 16:42:15         0.0  \n",
       "602 2025-03-23 16:51:43         0.0  \n",
       "609 2025-03-24 21:25:24         0.0  \n",
       "625 2025-03-25 13:51:47         0.0  \n",
       "631 2025-03-25 14:33:34         0.0  \n",
       "\n",
       "[618 rows x 14 columns]"
      ]
     },
     "execution_count": 3,
     "metadata": {},
     "output_type": "execute_result"
    }
   ],
   "source": [
    "# Asegurarse de que 'Date' es datetime\n",
    "df['Date'] = pd.to_datetime(df['Date'])\n",
    "\n",
    "# Ordenar por Product_Code y Date\n",
    "df_sorted = df.sort_values(by=['Product_Code', 'Date'])\n",
    "\n",
    "# Obtener la fecha anterior por producto\n",
    "df_sorted['Prev_Date'] = df_sorted.groupby('Product_Code')['Date'].shift(1)\n",
    "\n",
    "# Obtener también la Quantity de la fila anterior\n",
    "df_sorted['Prev_Quantity'] = df_sorted.groupby('Product_Code')['Quantity'].shift(1)\n",
    "\n",
    "# Filtrar solo las filas que tienen una fecha anterior válida\n",
    "df_with_previous = df_sorted[df_sorted['Prev_Date'].notna()].copy()\n",
    "\n",
    "# Calcular la diferencia\n",
    "df_with_previous['Units_Sold'] = df_with_previous['Prev_Quantity'] - df_with_previous['Quantity']\n",
    "\n",
    "# Si no necesitás 'Prev_Date' ni 'Prev_Quantity', podés quitarlas\n",
    "df_with_previous = df_with_previous.drop(columns=['Prev_Date', 'Prev_Quantity'])\n",
    "\n",
    "# Filtrar filas donde 'Units_Sold' es menor que 0\n",
    "df_with_previous = df_with_previous[df_with_previous['Units_Sold'] >= 0]\n",
    "\n",
    "df_with_previous"
   ]
  },
  {
   "cell_type": "code",
   "execution_count": 4,
   "id": "50d614af",
   "metadata": {},
   "outputs": [],
   "source": [
    "def plot_units_price_comp_ranking(df, product_code):\n",
    "    # Asegurarse de que 'Date' es datetime\n",
    "    df['Date'] = pd.to_datetime(df['Date'])\n",
    "\n",
    "    # Convertir a numéricos\n",
    "    df['Units_Sold'] = pd.to_numeric(df['Units_Sold'], errors='coerce')\n",
    "    df['Price'] = pd.to_numeric(\n",
    "        df['Price']\n",
    "        .astype(str)\n",
    "        .str.replace(r'[^0-9.,]', '', regex=True)\n",
    "        .str.replace(',', '.'),\n",
    "        errors='coerce'\n",
    "    )\n",
    "    df['Ranking'] = pd.to_numeric(df['Ranking'], errors='coerce')\n",
    "    df['Avg_Price_Comp'] = pd.to_numeric(df['Avg_Price_Comp'], errors='coerce')\n",
    "    df['Min_Price_Comp'] = pd.to_numeric(df['Min_Price_Comp'], errors='coerce')\n",
    "    df['Max_Price_Comp'] = pd.to_numeric(df['Max_Price_Comp'], errors='coerce')\n",
    "\n",
    "    # Filtrar por Product_Code\n",
    "    df_filtered = df[df['Product_Code'] == product_code]\n",
    "\n",
    "    if df_filtered.empty:\n",
    "        print(f\"No se encontraron datos para el Product_Code: {product_code}\")\n",
    "        return\n",
    "\n",
    "    # Agrupar por fecha\n",
    "    df_grouped = (\n",
    "        df_filtered.groupby('Date', as_index=False)\n",
    "        .agg({\n",
    "            'Units_Sold': 'mean',\n",
    "            'Price': 'mean',\n",
    "            'Ranking': 'mean',\n",
    "            'Avg_Price_Comp': 'mean',\n",
    "            'Min_Price_Comp': 'mean',\n",
    "            'Max_Price_Comp': 'mean'\n",
    "        })\n",
    "        .sort_values(by='Date')\n",
    "    )\n",
    "\n",
    "    # Crear subplots: 4 filas\n",
    "    fig = make_subplots(\n",
    "        rows=4, cols=1,\n",
    "        shared_xaxes=True,\n",
    "        vertical_spacing=0.07,\n",
    "        subplot_titles=(\"Units Sold\", \"Price\", \"Competitor Prices\", \"Ranking\")\n",
    "    )\n",
    "\n",
    "    # Units Sold (fila 1)\n",
    "    fig.add_trace(go.Scatter(\n",
    "        x=df_grouped['Date'],\n",
    "        y=df_grouped['Units_Sold'],\n",
    "        mode='lines+markers',\n",
    "        name='Units Sold',\n",
    "        line=dict(color='royalblue')\n",
    "    ), row=1, col=1)\n",
    "\n",
    "    # Price (fila 2)\n",
    "    fig.add_trace(go.Scatter(\n",
    "        x=df_grouped['Date'],\n",
    "        y=df_grouped['Price'],\n",
    "        mode='lines+markers',\n",
    "        name='Price',\n",
    "        line=dict(color='seagreen')\n",
    "    ), row=2, col=1)\n",
    "\n",
    "    # Competitor Prices (fila 3)\n",
    "    fig.add_trace(go.Scatter(\n",
    "        x=df_grouped['Date'],\n",
    "        y=df_grouped['Avg_Price_Comp'],\n",
    "        mode='lines+markers',\n",
    "        name='Avg Price Comp',\n",
    "        line=dict(dash='solid', color='orange')\n",
    "    ), row=3, col=1)\n",
    "\n",
    "    fig.add_trace(go.Scatter(\n",
    "        x=df_grouped['Date'],\n",
    "        y=df_grouped['Min_Price_Comp'],\n",
    "        mode='lines+markers',\n",
    "        name='Min Price Comp',\n",
    "        line=dict(dash='dot', color='gray')\n",
    "    ), row=3, col=1)\n",
    "\n",
    "    fig.add_trace(go.Scatter(\n",
    "        x=df_grouped['Date'],\n",
    "        y=df_grouped['Max_Price_Comp'],\n",
    "        mode='lines+markers',\n",
    "        name='Max Price Comp',\n",
    "        line=dict(dash='dash', color='black')\n",
    "    ), row=3, col=1)\n",
    "\n",
    "    # Ranking (fila 4)\n",
    "    fig.add_trace(go.Scatter(\n",
    "        x=df_grouped['Date'],\n",
    "        y=df_grouped['Ranking'],\n",
    "        mode='lines+markers',\n",
    "        name='Ranking',\n",
    "        line=dict(color='indianred')\n",
    "    ), row=4, col=1)\n",
    "\n",
    "    # Layout final\n",
    "    fig.update_layout(\n",
    "        title_text=f'Métricas vs. Fecha para {product_code}',\n",
    "        xaxis4=dict(title='Fecha'),  # solo el último tiene título\n",
    "        yaxis=dict(title='Units Sold'),\n",
    "        yaxis2=dict(title='Price'),\n",
    "        yaxis3=dict(title='Competitor Prices'),\n",
    "        yaxis4=dict(title='Ranking', autorange='reversed'),\n",
    "        hovermode='x unified',\n",
    "        height=1000\n",
    "    )\n",
    "\n",
    "    fig.show()"
   ]
  },
  {
   "cell_type": "code",
   "execution_count": 5,
   "id": "3e22e394",
   "metadata": {},
   "outputs": [
    {
     "name": "stderr",
     "output_type": "stream",
     "text": [
      "c:\\Python311\\Lib\\site-packages\\_plotly_utils\\basevalidators.py:105: FutureWarning:\n",
      "\n",
      "The behavior of DatetimeProperties.to_pydatetime is deprecated, in a future version this will return a Series containing python datetime objects instead of an ndarray. To retain the old behavior, call `np.array` on the result\n",
      "\n"
     ]
    },
    {
     "data": {
      "application/vnd.plotly.v1+json": {
       "config": {
        "plotlyServerURL": "https://plot.ly"
       },
       "data": [
        {
         "line": {
          "color": "royalblue"
         },
         "mode": "lines+markers",
         "name": "Units Sold",
         "type": "scatter",
         "x": [
          "2025-04-08T16:29:09",
          "2025-04-09T19:00:02"
         ],
         "xaxis": "x",
         "y": [
          1,
          269
         ],
         "yaxis": "y"
        },
        {
         "line": {
          "color": "seagreen"
         },
         "mode": "lines+markers",
         "name": "Price",
         "type": "scatter",
         "x": [
          "2025-04-08T16:29:09",
          "2025-04-09T19:00:02"
         ],
         "xaxis": "x2",
         "y": [
          29.99,
          29.99
         ],
         "yaxis": "y2"
        },
        {
         "line": {
          "color": "orange",
          "dash": "solid"
         },
         "mode": "lines+markers",
         "name": "Avg Price Comp",
         "type": "scatter",
         "x": [
          "2025-04-08T16:29:09",
          "2025-04-09T19:00:02"
         ],
         "xaxis": "x3",
         "y": [
          26.1,
          25.95
         ],
         "yaxis": "y3"
        },
        {
         "line": {
          "color": "gray",
          "dash": "dot"
         },
         "mode": "lines+markers",
         "name": "Min Price Comp",
         "type": "scatter",
         "x": [
          "2025-04-08T16:29:09",
          "2025-04-09T19:00:02"
         ],
         "xaxis": "x3",
         "y": [
          9.99,
          4.49
         ],
         "yaxis": "y3"
        },
        {
         "line": {
          "color": "black",
          "dash": "dash"
         },
         "mode": "lines+markers",
         "name": "Max Price Comp",
         "type": "scatter",
         "x": [
          "2025-04-08T16:29:09",
          "2025-04-09T19:00:02"
         ],
         "xaxis": "x3",
         "y": [
          49.99,
          49.99
         ],
         "yaxis": "y3"
        },
        {
         "line": {
          "color": "indianred"
         },
         "mode": "lines+markers",
         "name": "Ranking",
         "type": "scatter",
         "x": [
          "2025-04-08T16:29:09",
          "2025-04-09T19:00:02"
         ],
         "xaxis": "x4",
         "y": [
          6707,
          6175
         ],
         "yaxis": "y4"
        }
       ],
       "layout": {
        "annotations": [
         {
          "font": {
           "size": 16
          },
          "showarrow": false,
          "text": "Units Sold",
          "x": 0.5,
          "xanchor": "center",
          "xref": "paper",
          "y": 1,
          "yanchor": "bottom",
          "yref": "paper"
         },
         {
          "font": {
           "size": 16
          },
          "showarrow": false,
          "text": "Price",
          "x": 0.5,
          "xanchor": "center",
          "xref": "paper",
          "y": 0.7325,
          "yanchor": "bottom",
          "yref": "paper"
         },
         {
          "font": {
           "size": 16
          },
          "showarrow": false,
          "text": "Competitor Prices",
          "x": 0.5,
          "xanchor": "center",
          "xref": "paper",
          "y": 0.465,
          "yanchor": "bottom",
          "yref": "paper"
         },
         {
          "font": {
           "size": 16
          },
          "showarrow": false,
          "text": "Ranking",
          "x": 0.5,
          "xanchor": "center",
          "xref": "paper",
          "y": 0.1975,
          "yanchor": "bottom",
          "yref": "paper"
         }
        ],
        "height": 1000,
        "hovermode": "x unified",
        "template": {
         "data": {
          "bar": [
           {
            "error_x": {
             "color": "#2a3f5f"
            },
            "error_y": {
             "color": "#2a3f5f"
            },
            "marker": {
             "line": {
              "color": "#E5ECF6",
              "width": 0.5
             },
             "pattern": {
              "fillmode": "overlay",
              "size": 10,
              "solidity": 0.2
             }
            },
            "type": "bar"
           }
          ],
          "barpolar": [
           {
            "marker": {
             "line": {
              "color": "#E5ECF6",
              "width": 0.5
             },
             "pattern": {
              "fillmode": "overlay",
              "size": 10,
              "solidity": 0.2
             }
            },
            "type": "barpolar"
           }
          ],
          "carpet": [
           {
            "aaxis": {
             "endlinecolor": "#2a3f5f",
             "gridcolor": "white",
             "linecolor": "white",
             "minorgridcolor": "white",
             "startlinecolor": "#2a3f5f"
            },
            "baxis": {
             "endlinecolor": "#2a3f5f",
             "gridcolor": "white",
             "linecolor": "white",
             "minorgridcolor": "white",
             "startlinecolor": "#2a3f5f"
            },
            "type": "carpet"
           }
          ],
          "choropleth": [
           {
            "colorbar": {
             "outlinewidth": 0,
             "ticks": ""
            },
            "type": "choropleth"
           }
          ],
          "contour": [
           {
            "colorbar": {
             "outlinewidth": 0,
             "ticks": ""
            },
            "colorscale": [
             [
              0,
              "#0d0887"
             ],
             [
              0.1111111111111111,
              "#46039f"
             ],
             [
              0.2222222222222222,
              "#7201a8"
             ],
             [
              0.3333333333333333,
              "#9c179e"
             ],
             [
              0.4444444444444444,
              "#bd3786"
             ],
             [
              0.5555555555555556,
              "#d8576b"
             ],
             [
              0.6666666666666666,
              "#ed7953"
             ],
             [
              0.7777777777777778,
              "#fb9f3a"
             ],
             [
              0.8888888888888888,
              "#fdca26"
             ],
             [
              1,
              "#f0f921"
             ]
            ],
            "type": "contour"
           }
          ],
          "contourcarpet": [
           {
            "colorbar": {
             "outlinewidth": 0,
             "ticks": ""
            },
            "type": "contourcarpet"
           }
          ],
          "heatmap": [
           {
            "colorbar": {
             "outlinewidth": 0,
             "ticks": ""
            },
            "colorscale": [
             [
              0,
              "#0d0887"
             ],
             [
              0.1111111111111111,
              "#46039f"
             ],
             [
              0.2222222222222222,
              "#7201a8"
             ],
             [
              0.3333333333333333,
              "#9c179e"
             ],
             [
              0.4444444444444444,
              "#bd3786"
             ],
             [
              0.5555555555555556,
              "#d8576b"
             ],
             [
              0.6666666666666666,
              "#ed7953"
             ],
             [
              0.7777777777777778,
              "#fb9f3a"
             ],
             [
              0.8888888888888888,
              "#fdca26"
             ],
             [
              1,
              "#f0f921"
             ]
            ],
            "type": "heatmap"
           }
          ],
          "heatmapgl": [
           {
            "colorbar": {
             "outlinewidth": 0,
             "ticks": ""
            },
            "colorscale": [
             [
              0,
              "#0d0887"
             ],
             [
              0.1111111111111111,
              "#46039f"
             ],
             [
              0.2222222222222222,
              "#7201a8"
             ],
             [
              0.3333333333333333,
              "#9c179e"
             ],
             [
              0.4444444444444444,
              "#bd3786"
             ],
             [
              0.5555555555555556,
              "#d8576b"
             ],
             [
              0.6666666666666666,
              "#ed7953"
             ],
             [
              0.7777777777777778,
              "#fb9f3a"
             ],
             [
              0.8888888888888888,
              "#fdca26"
             ],
             [
              1,
              "#f0f921"
             ]
            ],
            "type": "heatmapgl"
           }
          ],
          "histogram": [
           {
            "marker": {
             "pattern": {
              "fillmode": "overlay",
              "size": 10,
              "solidity": 0.2
             }
            },
            "type": "histogram"
           }
          ],
          "histogram2d": [
           {
            "colorbar": {
             "outlinewidth": 0,
             "ticks": ""
            },
            "colorscale": [
             [
              0,
              "#0d0887"
             ],
             [
              0.1111111111111111,
              "#46039f"
             ],
             [
              0.2222222222222222,
              "#7201a8"
             ],
             [
              0.3333333333333333,
              "#9c179e"
             ],
             [
              0.4444444444444444,
              "#bd3786"
             ],
             [
              0.5555555555555556,
              "#d8576b"
             ],
             [
              0.6666666666666666,
              "#ed7953"
             ],
             [
              0.7777777777777778,
              "#fb9f3a"
             ],
             [
              0.8888888888888888,
              "#fdca26"
             ],
             [
              1,
              "#f0f921"
             ]
            ],
            "type": "histogram2d"
           }
          ],
          "histogram2dcontour": [
           {
            "colorbar": {
             "outlinewidth": 0,
             "ticks": ""
            },
            "colorscale": [
             [
              0,
              "#0d0887"
             ],
             [
              0.1111111111111111,
              "#46039f"
             ],
             [
              0.2222222222222222,
              "#7201a8"
             ],
             [
              0.3333333333333333,
              "#9c179e"
             ],
             [
              0.4444444444444444,
              "#bd3786"
             ],
             [
              0.5555555555555556,
              "#d8576b"
             ],
             [
              0.6666666666666666,
              "#ed7953"
             ],
             [
              0.7777777777777778,
              "#fb9f3a"
             ],
             [
              0.8888888888888888,
              "#fdca26"
             ],
             [
              1,
              "#f0f921"
             ]
            ],
            "type": "histogram2dcontour"
           }
          ],
          "mesh3d": [
           {
            "colorbar": {
             "outlinewidth": 0,
             "ticks": ""
            },
            "type": "mesh3d"
           }
          ],
          "parcoords": [
           {
            "line": {
             "colorbar": {
              "outlinewidth": 0,
              "ticks": ""
             }
            },
            "type": "parcoords"
           }
          ],
          "pie": [
           {
            "automargin": true,
            "type": "pie"
           }
          ],
          "scatter": [
           {
            "fillpattern": {
             "fillmode": "overlay",
             "size": 10,
             "solidity": 0.2
            },
            "type": "scatter"
           }
          ],
          "scatter3d": [
           {
            "line": {
             "colorbar": {
              "outlinewidth": 0,
              "ticks": ""
             }
            },
            "marker": {
             "colorbar": {
              "outlinewidth": 0,
              "ticks": ""
             }
            },
            "type": "scatter3d"
           }
          ],
          "scattercarpet": [
           {
            "marker": {
             "colorbar": {
              "outlinewidth": 0,
              "ticks": ""
             }
            },
            "type": "scattercarpet"
           }
          ],
          "scattergeo": [
           {
            "marker": {
             "colorbar": {
              "outlinewidth": 0,
              "ticks": ""
             }
            },
            "type": "scattergeo"
           }
          ],
          "scattergl": [
           {
            "marker": {
             "colorbar": {
              "outlinewidth": 0,
              "ticks": ""
             }
            },
            "type": "scattergl"
           }
          ],
          "scattermapbox": [
           {
            "marker": {
             "colorbar": {
              "outlinewidth": 0,
              "ticks": ""
             }
            },
            "type": "scattermapbox"
           }
          ],
          "scatterpolar": [
           {
            "marker": {
             "colorbar": {
              "outlinewidth": 0,
              "ticks": ""
             }
            },
            "type": "scatterpolar"
           }
          ],
          "scatterpolargl": [
           {
            "marker": {
             "colorbar": {
              "outlinewidth": 0,
              "ticks": ""
             }
            },
            "type": "scatterpolargl"
           }
          ],
          "scatterternary": [
           {
            "marker": {
             "colorbar": {
              "outlinewidth": 0,
              "ticks": ""
             }
            },
            "type": "scatterternary"
           }
          ],
          "surface": [
           {
            "colorbar": {
             "outlinewidth": 0,
             "ticks": ""
            },
            "colorscale": [
             [
              0,
              "#0d0887"
             ],
             [
              0.1111111111111111,
              "#46039f"
             ],
             [
              0.2222222222222222,
              "#7201a8"
             ],
             [
              0.3333333333333333,
              "#9c179e"
             ],
             [
              0.4444444444444444,
              "#bd3786"
             ],
             [
              0.5555555555555556,
              "#d8576b"
             ],
             [
              0.6666666666666666,
              "#ed7953"
             ],
             [
              0.7777777777777778,
              "#fb9f3a"
             ],
             [
              0.8888888888888888,
              "#fdca26"
             ],
             [
              1,
              "#f0f921"
             ]
            ],
            "type": "surface"
           }
          ],
          "table": [
           {
            "cells": {
             "fill": {
              "color": "#EBF0F8"
             },
             "line": {
              "color": "white"
             }
            },
            "header": {
             "fill": {
              "color": "#C8D4E3"
             },
             "line": {
              "color": "white"
             }
            },
            "type": "table"
           }
          ]
         },
         "layout": {
          "annotationdefaults": {
           "arrowcolor": "#2a3f5f",
           "arrowhead": 0,
           "arrowwidth": 1
          },
          "autotypenumbers": "strict",
          "coloraxis": {
           "colorbar": {
            "outlinewidth": 0,
            "ticks": ""
           }
          },
          "colorscale": {
           "diverging": [
            [
             0,
             "#8e0152"
            ],
            [
             0.1,
             "#c51b7d"
            ],
            [
             0.2,
             "#de77ae"
            ],
            [
             0.3,
             "#f1b6da"
            ],
            [
             0.4,
             "#fde0ef"
            ],
            [
             0.5,
             "#f7f7f7"
            ],
            [
             0.6,
             "#e6f5d0"
            ],
            [
             0.7,
             "#b8e186"
            ],
            [
             0.8,
             "#7fbc41"
            ],
            [
             0.9,
             "#4d9221"
            ],
            [
             1,
             "#276419"
            ]
           ],
           "sequential": [
            [
             0,
             "#0d0887"
            ],
            [
             0.1111111111111111,
             "#46039f"
            ],
            [
             0.2222222222222222,
             "#7201a8"
            ],
            [
             0.3333333333333333,
             "#9c179e"
            ],
            [
             0.4444444444444444,
             "#bd3786"
            ],
            [
             0.5555555555555556,
             "#d8576b"
            ],
            [
             0.6666666666666666,
             "#ed7953"
            ],
            [
             0.7777777777777778,
             "#fb9f3a"
            ],
            [
             0.8888888888888888,
             "#fdca26"
            ],
            [
             1,
             "#f0f921"
            ]
           ],
           "sequentialminus": [
            [
             0,
             "#0d0887"
            ],
            [
             0.1111111111111111,
             "#46039f"
            ],
            [
             0.2222222222222222,
             "#7201a8"
            ],
            [
             0.3333333333333333,
             "#9c179e"
            ],
            [
             0.4444444444444444,
             "#bd3786"
            ],
            [
             0.5555555555555556,
             "#d8576b"
            ],
            [
             0.6666666666666666,
             "#ed7953"
            ],
            [
             0.7777777777777778,
             "#fb9f3a"
            ],
            [
             0.8888888888888888,
             "#fdca26"
            ],
            [
             1,
             "#f0f921"
            ]
           ]
          },
          "colorway": [
           "#636efa",
           "#EF553B",
           "#00cc96",
           "#ab63fa",
           "#FFA15A",
           "#19d3f3",
           "#FF6692",
           "#B6E880",
           "#FF97FF",
           "#FECB52"
          ],
          "font": {
           "color": "#2a3f5f"
          },
          "geo": {
           "bgcolor": "white",
           "lakecolor": "white",
           "landcolor": "#E5ECF6",
           "showlakes": true,
           "showland": true,
           "subunitcolor": "white"
          },
          "hoverlabel": {
           "align": "left"
          },
          "hovermode": "closest",
          "mapbox": {
           "style": "light"
          },
          "paper_bgcolor": "white",
          "plot_bgcolor": "#E5ECF6",
          "polar": {
           "angularaxis": {
            "gridcolor": "white",
            "linecolor": "white",
            "ticks": ""
           },
           "bgcolor": "#E5ECF6",
           "radialaxis": {
            "gridcolor": "white",
            "linecolor": "white",
            "ticks": ""
           }
          },
          "scene": {
           "xaxis": {
            "backgroundcolor": "#E5ECF6",
            "gridcolor": "white",
            "gridwidth": 2,
            "linecolor": "white",
            "showbackground": true,
            "ticks": "",
            "zerolinecolor": "white"
           },
           "yaxis": {
            "backgroundcolor": "#E5ECF6",
            "gridcolor": "white",
            "gridwidth": 2,
            "linecolor": "white",
            "showbackground": true,
            "ticks": "",
            "zerolinecolor": "white"
           },
           "zaxis": {
            "backgroundcolor": "#E5ECF6",
            "gridcolor": "white",
            "gridwidth": 2,
            "linecolor": "white",
            "showbackground": true,
            "ticks": "",
            "zerolinecolor": "white"
           }
          },
          "shapedefaults": {
           "line": {
            "color": "#2a3f5f"
           }
          },
          "ternary": {
           "aaxis": {
            "gridcolor": "white",
            "linecolor": "white",
            "ticks": ""
           },
           "baxis": {
            "gridcolor": "white",
            "linecolor": "white",
            "ticks": ""
           },
           "bgcolor": "#E5ECF6",
           "caxis": {
            "gridcolor": "white",
            "linecolor": "white",
            "ticks": ""
           }
          },
          "title": {
           "x": 0.05
          },
          "xaxis": {
           "automargin": true,
           "gridcolor": "white",
           "linecolor": "white",
           "ticks": "",
           "title": {
            "standoff": 15
           },
           "zerolinecolor": "white",
           "zerolinewidth": 2
          },
          "yaxis": {
           "automargin": true,
           "gridcolor": "white",
           "linecolor": "white",
           "ticks": "",
           "title": {
            "standoff": 15
           },
           "zerolinecolor": "white",
           "zerolinewidth": 2
          }
         }
        },
        "title": {
         "text": "Métricas vs. Fecha para B0B1PZY915"
        },
        "xaxis": {
         "anchor": "y",
         "domain": [
          0,
          1
         ],
         "matches": "x4",
         "showticklabels": false
        },
        "xaxis2": {
         "anchor": "y2",
         "domain": [
          0,
          1
         ],
         "matches": "x4",
         "showticklabels": false
        },
        "xaxis3": {
         "anchor": "y3",
         "domain": [
          0,
          1
         ],
         "matches": "x4",
         "showticklabels": false
        },
        "xaxis4": {
         "anchor": "y4",
         "domain": [
          0,
          1
         ],
         "title": {
          "text": "Fecha"
         }
        },
        "yaxis": {
         "anchor": "x",
         "domain": [
          0.8025,
          1
         ],
         "title": {
          "text": "Units Sold"
         }
        },
        "yaxis2": {
         "anchor": "x2",
         "domain": [
          0.535,
          0.7325
         ],
         "title": {
          "text": "Price"
         }
        },
        "yaxis3": {
         "anchor": "x3",
         "domain": [
          0.2675,
          0.465
         ],
         "title": {
          "text": "Competitor Prices"
         }
        },
        "yaxis4": {
         "anchor": "x4",
         "autorange": "reversed",
         "domain": [
          0,
          0.1975
         ],
         "title": {
          "text": "Ranking"
         }
        }
       }
      }
     },
     "metadata": {},
     "output_type": "display_data"
    }
   ],
   "source": [
    "plot_units_price_comp_ranking(df_with_previous, 'B0B1PZY915')"
   ]
  }
 ],
 "metadata": {
  "kernelspec": {
   "display_name": "Python 3",
   "language": "python",
   "name": "python3"
  },
  "language_info": {
   "codemirror_mode": {
    "name": "ipython",
    "version": 3
   },
   "file_extension": ".py",
   "mimetype": "text/x-python",
   "name": "python",
   "nbconvert_exporter": "python",
   "pygments_lexer": "ipython3",
   "version": "3.11.5"
  }
 },
 "nbformat": 4,
 "nbformat_minor": 5
}
