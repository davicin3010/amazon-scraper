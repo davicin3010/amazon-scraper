{
 "cells": [
  {
   "cell_type": "code",
   "execution_count": 1,
   "metadata": {},
   "outputs": [],
   "source": [
    "import requests\n",
    "import pandas as pd\n",
    "import random\n",
    "from datetime import datetime\n",
    "from selenium import webdriver\n",
    "# from selenium.webdriver.chrome.options import Options\n",
    "from selenium.webdriver.firefox.options import Options\n",
    "from selenium.webdriver.firefox.service import Service\n",
    "from selenium.webdriver.common.by import By\n",
    "from selenium.webdriver.common.keys import Keys\n",
    "from selenium.webdriver.support.ui import Select\n",
    "from selenium.webdriver.support.ui import WebDriverWait\n",
    "from selenium.webdriver.support import expected_conditions as EC\n",
    "from selenium.webdriver.common.action_chains import ActionChains\n",
    "from selenium.common.exceptions import NoSuchElementException\n",
    "from amazoncaptcha import AmazonCaptcha\n",
    "import time\n",
    "import re\n",
    "import os"
   ]
  },
  {
   "cell_type": "code",
   "execution_count": 2,
   "metadata": {},
   "outputs": [],
   "source": [
    "# Definir la ruta de la carpeta y el archivo\n",
    "folder_path = \"../output\"\n",
    "csv_file = \"data.csv\"\n",
    "csv_path = os.path.join(folder_path, csv_file)\n",
    "\n",
    "# Verificar si la carpeta existe, si no, crearla\n",
    "if not os.path.exists(folder_path):\n",
    "    os.makedirs(folder_path)\n",
    "    print(f\"Carpeta creada: {folder_path}\")\n",
    "\n",
    "# Si el archivo CSV no existe, crear un DataFrame vacío con las columnas adecuadas\n",
    "if not os.path.exists(csv_path):\n",
    "    data = pd.DataFrame(columns=[\"Product_Code\", \"Title\", \"Vendor_Name\", \"Rating\", \"Num_Ratings\", \"Price\", \"Quantity\", \"Min_Price_Comp\", \"Max_Price_Comp\", \"Avg_Price_Comp\", \"Date\"])\n",
    "    data.to_csv(csv_path, sep='|', index=False) \n",
    "else:\n",
    "    data = pd.read_csv(csv_path, sep='|')"
   ]
  },
  {
   "cell_type": "code",
   "execution_count": 3,
   "metadata": {},
   "outputs": [
    {
     "name": "stdout",
     "output_type": "stream",
     "text": [
      "URL de la imagen: https://images-na.ssl-images-amazon.com/captcha/sgkknrsj/Captcha_ekabjahapd.jpg\n",
      "Imagen descargada correctamente en: ../others/captured_image.jpg\n",
      "El texto del captcha es: KBEBCX\n",
      "Captcha ingresado.\n",
      "Ingresaste a Amazon!\n"
     ]
    }
   ],
   "source": [
    "# Configurar las opciones de webdriver\n",
    "options = Options()\n",
    "# options.add_argument(\"--headless\")\n",
    "options.add_argument(\"--disable-gpu\")\n",
    "options.add_argument(\"--window-size=1920,1080\") \n",
    "\n",
    "# Configurar el WebDriver Chrome\n",
    "# driver_path = \"../others/chromedriver\"\n",
    "# driver = webdriver.Chrome(executable_path=driver_path, options=chrome_options)\n",
    "\n",
    "# Configurar el WebDriver Firefox\n",
    "options.binary_location = 'C:\\\\Program Files\\\\Mozilla Firefox\\\\firefox.exe'\n",
    "service = Service('../others/geckodriver.exe')\n",
    "driver = webdriver.Firefox(service=service, options=options)\n",
    "\n",
    "# Maximizar la ventana\n",
    "driver.maximize_window()\n",
    "\n",
    "# Abrir la página de Amazon\n",
    "url = \"https://www.amazon.com/\" \n",
    "driver.get(url)\n",
    "\n",
    "# Esperar unos segundos para que cargue la página\n",
    "time.sleep(10)\n",
    "\n",
    "try:\n",
    "    # Localizar la única imagen y obtener su URL\n",
    "    image = driver.find_element(By.TAG_NAME, \"img\")\n",
    "    image_url = image.get_attribute(\"src\")\n",
    "    print(\"URL de la imagen:\", image_url)\n",
    "\n",
    "    # Descargar la imagen\n",
    "    response = requests.get(image_url, stream=True)\n",
    "    image_path = \"../others/captured_image.jpg\"\n",
    "    with open(image_path, 'wb') as file:\n",
    "        for chunk in response.iter_content(1024):\n",
    "            file.write(chunk)\n",
    "    print(f\"Imagen descargada correctamente en: {image_path}\")\n",
    "\n",
    "    # Resolver el captcha\n",
    "    captcha_value = AmazonCaptcha(image_path).solve()\n",
    "    print(f\"El texto del captcha es: {captcha_value}\")\n",
    "\n",
    "    # Ingresar cada carácter con un intervalo aleatorio\n",
    "    captcha_input = driver.find_element(By.ID, \"captchacharacters\")\n",
    "    for char in captcha_value:\n",
    "        captcha_input.send_keys(char)\n",
    "        time.sleep(random.uniform(0, 1))\n",
    "    print(\"Captcha ingresado.\")\n",
    "\n",
    "    # Enviar el formulario del captcha\n",
    "    captcha_input.send_keys(Keys.RETURN)\n",
    "except:\n",
    "    pass\n",
    "\n",
    "print(\"Ingresaste a Amazon!\")"
   ]
  },
  {
   "cell_type": "code",
   "execution_count": 4,
   "metadata": {},
   "outputs": [],
   "source": [
    "try:\n",
    "    # Cambiar localización para figurar en Miami\n",
    "    location_link = driver.find_element(By.ID, \"nav-global-location-popover-link\")\n",
    "    location_link.click()\n",
    "\n",
    "    time.sleep(5)\n",
    "\n",
    "    postal_code = \"33101\"\n",
    "    postal_code_input = driver.find_element(By.XPATH, \"//input[@autocomplete='postal-code']\")\n",
    "    for char in postal_code:\n",
    "        postal_code_input.send_keys(char)\n",
    "        time.sleep(random.uniform(0, 1))\n",
    "\n",
    "    postal_code_button = driver.find_element(By.XPATH, \"//span[@id='GLUXZipUpdate']\")\n",
    "    postal_code_button.click()\n",
    "\n",
    "    print(f\"Nos geolocalizamos en Miami.\")\n",
    "except:\n",
    "    pass"
   ]
  },
  {
   "cell_type": "code",
   "execution_count": 5,
   "metadata": {},
   "outputs": [],
   "source": [
    "product_id = 'B0B2RFPJY2'\n",
    "product_url = url + f'gp/product/{product_id}'\n",
    "driver.get(product_url)"
   ]
  }
 ],
 "metadata": {
  "kernelspec": {
   "display_name": "base",
   "language": "python",
   "name": "python3"
  },
  "language_info": {
   "codemirror_mode": {
    "name": "ipython",
    "version": 3
   },
   "file_extension": ".py",
   "mimetype": "text/x-python",
   "name": "python",
   "nbconvert_exporter": "python",
   "pygments_lexer": "ipython3",
   "version": "3.9.13"
  }
 },
 "nbformat": 4,
 "nbformat_minor": 2
}
